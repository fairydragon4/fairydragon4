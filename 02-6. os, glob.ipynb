{
 "cells": [
  {
   "cell_type": "code",
   "execution_count": 1,
   "id": "3934834d",
   "metadata": {},
   "outputs": [],
   "source": [
    "import os\n",
    "import glob"
   ]
  },
  {
   "cell_type": "code",
   "execution_count": 2,
   "id": "a06da10a",
   "metadata": {},
   "outputs": [
    {
     "data": {
      "text/plain": [
       "'D:\\\\python\\\\notebooks\\\\company'"
      ]
     },
     "execution_count": 2,
     "metadata": {},
     "output_type": "execute_result"
    }
   ],
   "source": [
    "# 현재 작업폴더 반환\n",
    "os.getcwd()"
   ]
  },
  {
   "cell_type": "code",
   "execution_count": 3,
   "id": "1ee2ba4e",
   "metadata": {},
   "outputs": [
    {
     "data": {
      "text/plain": [
       "'D:\\\\python\\\\notebooks\\\\company\\\\company'"
      ]
     },
     "execution_count": 3,
     "metadata": {},
     "output_type": "execute_result"
    }
   ],
   "source": [
    "# 인수에 전달된 문자들을 결합해 하나의 경로로 반환\n",
    "os.path.join(os.getcwd(), 'company')"
   ]
  },
  {
   "cell_type": "code",
   "execution_count": 4,
   "id": "78656db6",
   "metadata": {},
   "outputs": [],
   "source": [
    "# 폴더 생성\n",
    "os.mkdir('samp')"
   ]
  },
  {
   "cell_type": "code",
   "execution_count": 5,
   "id": "5dbafde0",
   "metadata": {},
   "outputs": [
    {
     "name": "stdout",
     "output_type": "stream",
     "text": [
      "D:\\python\\notebooks\\company\\samp\n",
      "D:\\python\\notebooks\\company\n"
     ]
    }
   ],
   "source": [
    "# 하위 폴더 이동\n",
    "os.chdir(os.getcwd() + '/samp')\n",
    "print(os.getcwd())\n",
    "\n",
    "# 상위 폴더 이동\n",
    "os.chdir('..')\n",
    "print(os.getcwd())"
   ]
  },
  {
   "cell_type": "code",
   "execution_count": 6,
   "id": "d26ab24e",
   "metadata": {},
   "outputs": [
    {
     "data": {
      "text/plain": [
       "['hello.txt']"
      ]
     },
     "execution_count": 6,
     "metadata": {},
     "output_type": "execute_result"
    }
   ],
   "source": [
    "# 샘플 파일 생성\n",
    "os.chdir(os.getcwd() + '/samp')\n",
    "with open('hello.txt', 'w') as f:\n",
    "    f.write('hello')\n",
    "\n",
    "# 현재폴더 파일 리스트 출력\n",
    "os.listdir()"
   ]
  },
  {
   "cell_type": "code",
   "execution_count": 7,
   "id": "a409fe1d",
   "metadata": {},
   "outputs": [],
   "source": [
    "# 파일 삭제\n",
    "os.remove('hello.txt')"
   ]
  },
  {
   "cell_type": "code",
   "execution_count": 8,
   "id": "f3df38de",
   "metadata": {},
   "outputs": [],
   "source": [
    "# 폴더 삭제. 빈 폴더만 가능\n",
    "os.chdir('..')\n",
    "os.rmdir('samp')"
   ]
  },
  {
   "cell_type": "code",
   "execution_count": 9,
   "id": "bd0c5e69",
   "metadata": {},
   "outputs": [
    {
     "data": {
      "text/plain": [
       "['230202\\\\[2977733](당)영업점통폐합_점세권인근거주.ipynb',\n",
       " '230202\\\\[2977733]01. 샘플 데이터 생성하기.ipynb',\n",
       " '230202\\\\[2977733]02. Pandas 기본.ipynb',\n",
       " '230202\\\\[2977733]03. 날짜 형식 연산, 변환.ipynb']"
      ]
     },
     "execution_count": 9,
     "metadata": {},
     "output_type": "execute_result"
    }
   ],
   "source": [
    "# 폴더 내 파일 모두 호출, 하위경로 지정시 경로까지 표시\n",
    "glob.glob('230202/*')[0:4]"
   ]
  },
  {
   "cell_type": "code",
   "execution_count": 10,
   "id": "b9e1401b",
   "metadata": {},
   "outputs": [
    {
     "data": {
      "text/plain": [
       "['.ipynb_checkpoints',\n",
       " '[2977733](당)영업점통폐합_점세권인근거주.ipynb',\n",
       " '[2977733]01. 샘플 데이터 생성하기.ipynb',\n",
       " '[2977733]02. Pandas 기본.ipynb']"
      ]
     },
     "execution_count": 10,
     "metadata": {},
     "output_type": "execute_result"
    }
   ],
   "source": [
    "# 위와 다른건, 폴더 경로없이 파일명만 추출\n",
    "os.listdir(os.path.join(os.getcwd(), '230202'))[0:4]"
   ]
  },
  {
   "cell_type": "code",
   "execution_count": 11,
   "id": "b960be55",
   "metadata": {},
   "outputs": [
    {
     "data": {
      "text/plain": [
       "['230202\\\\[2977733]01. 샘플 데이터 생성하기.ipynb',\n",
       " '230202\\\\[2977733]02. Pandas 기본.ipynb',\n",
       " '230202\\\\[2977733]03. 날짜 형식 연산, 변환.ipynb',\n",
       " '230202\\\\[2977733]04. 시각화_matplotlib_seaborn.ipynb',\n",
       " '230202\\\\[2977733]07. 분류.ipynb']"
      ]
     },
     "execution_count": 11,
     "metadata": {},
     "output_type": "execute_result"
    }
   ],
   "source": [
    "# 폴더 내 특정패턴 파일만 호출\n",
    "glob.glob('230202/*0*')  # 해당폴더 내 '0' 을 포함한 파일만 호출"
   ]
  },
  {
   "cell_type": "code",
   "execution_count": 12,
   "id": "10a0c409",
   "metadata": {},
   "outputs": [
    {
     "data": {
      "text/plain": [
       "['230202\\\\[2977733]01. 샘플 데이터 생성하기.ipynb',\n",
       " '230202\\\\[2977733]02. Pandas 기본.ipynb',\n",
       " '230202\\\\[2977733]03. 날짜 형식 연산, 변환.ipynb',\n",
       " '230202\\\\[2977733]04. 시각화_matplotlib_seaborn.ipynb']"
      ]
     },
     "execution_count": 12,
     "metadata": {},
     "output_type": "execute_result"
    }
   ],
   "source": [
    "# * 임의길이 모든 문자열,\n",
    "glob.glob('230202/*0[0-4]*.ipynb')"
   ]
  },
  {
   "cell_type": "code",
   "execution_count": 13,
   "id": "012d5dd6",
   "metadata": {},
   "outputs": [
    {
     "data": {
      "text/plain": [
       "['dots.pkl', 'fmri.pkl', 'glue.pkl', 'iris.pkl', 'tips.pkl']"
      ]
     },
     "execution_count": 13,
     "metadata": {},
     "output_type": "execute_result"
    }
   ],
   "source": [
    "# ? 는 한자리 문자\n",
    "glob.glob('????.pkl')"
   ]
  },
  {
   "cell_type": "code",
   "execution_count": 14,
   "id": "c40f2e1d",
   "metadata": {},
   "outputs": [
    {
     "name": "stdout",
     "output_type": "stream",
     "text": [
      "230202\\[2977733](당)영업점통폐합_점세권인근거주.ipynb\n",
      "230202\n",
      "[2977733](당)영업점통폐합_점세권인근거주.ipynb\n"
     ]
    }
   ],
   "source": [
    "# 파일 폴더 이름 분리\n",
    "filename = glob.glob('230202/*')[0]\n",
    "fordername, basename = os.path.split(filename)\n",
    "print(filename)\n",
    "print(fordername)\n",
    "print(basename)"
   ]
  },
  {
   "cell_type": "code",
   "execution_count": 15,
   "id": "c9b3f2f6",
   "metadata": {},
   "outputs": [
    {
     "name": "stdout",
     "output_type": "stream",
     "text": [
      "230202\\[2977733](당)영업점통폐합_점세권인근거주.ipynb\n",
      "230202\\[2977733](당)영업점통폐합_점세권인근거주\n",
      ".ipynb\n"
     ]
    }
   ],
   "source": [
    "# 확장자 분리\n",
    "filename = glob.glob('230202/*')[0]\n",
    "stem, ext = os.path.splitext(filename)\n",
    "print(filename)\n",
    "print(stem)\n",
    "print(ext)"
   ]
  },
  {
   "cell_type": "code",
   "execution_count": 16,
   "id": "9190cac1",
   "metadata": {},
   "outputs": [],
   "source": [
    "# 지정 폴더의 엑셀 파일을 pkl 파일로 일괄 변경\n",
    "files = glob.glob(\"./inputs/*.xlsx\")  # 현재 폴더의 모든 xlsx 파일을 호출\n",
    "for file in files:\n",
    "    fn = os.path.basename(file).split(\".\")[0]  # 파일명만 지정 - 경로 및 확장자 제거\n",
    "    # 이미 생성된 파일이면 넘어감\n",
    "    if os.path.exists(f\"./inputs/{fn}.pkl\"):\n",
    "        continue\n",
    "    else:\n",
    "        load_excel(file).to_pickle(f\"./inputs/{fn}.pkl\")  # pkl로 변경"
   ]
  },
  {
   "cell_type": "code",
   "execution_count": null,
   "id": "ae1f0d3a",
   "metadata": {},
   "outputs": [],
   "source": []
  }
 ],
 "metadata": {
  "kernelspec": {
   "display_name": "Python 3 (ipykernel)",
   "language": "python",
   "name": "python3"
  },
  "language_info": {
   "codemirror_mode": {
    "name": "ipython",
    "version": 3
   },
   "file_extension": ".py",
   "mimetype": "text/x-python",
   "name": "python",
   "nbconvert_exporter": "python",
   "pygments_lexer": "ipython3",
   "version": "3.9.10"
  }
 },
 "nbformat": 4,
 "nbformat_minor": 5
}
