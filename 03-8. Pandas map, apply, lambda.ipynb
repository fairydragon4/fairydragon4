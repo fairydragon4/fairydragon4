{
 "cells": [
  {
   "cell_type": "code",
   "execution_count": 1,
   "id": "6db0e884",
   "metadata": {},
   "outputs": [],
   "source": [
    "import pandas as pd\n",
    "import numpy as np\n",
    "import seaborn as sns"
   ]
  },
  {
   "cell_type": "markdown",
   "id": "a4d530de",
   "metadata": {},
   "source": [
    "### lambda 함수 : 한줄의 리턴 코드 가지는 함수를 간단히 작성"
   ]
  },
  {
   "cell_type": "code",
   "execution_count": 16,
   "id": "0672eeb6",
   "metadata": {},
   "outputs": [
    {
     "data": {
      "text/plain": [
       "25"
      ]
     },
     "execution_count": 16,
     "metadata": {},
     "output_type": "execute_result"
    }
   ],
   "source": [
    "def square(x):\n",
    "    return x* x\n",
    "\n",
    "square(5)"
   ]
  },
  {
   "cell_type": "code",
   "execution_count": 19,
   "id": "31840a73",
   "metadata": {},
   "outputs": [
    {
     "data": {
      "text/plain": [
       "25"
      ]
     },
     "execution_count": 19,
     "metadata": {},
     "output_type": "execute_result"
    }
   ],
   "source": [
    "# lambda 활용하면 1줄로 \n",
    "square_2 = lambda x: x*x\n",
    "square_2(5)"
   ]
  },
  {
   "cell_type": "code",
   "execution_count": 23,
   "id": "95c43c40",
   "metadata": {},
   "outputs": [
    {
     "data": {
      "text/plain": [
       "15"
      ]
     },
     "execution_count": 23,
     "metadata": {},
     "output_type": "execute_result"
    }
   ],
   "source": [
    "def add10(x):\n",
    "    y = 10;     return x+y\n",
    "add10(5)"
   ]
  },
  {
   "cell_type": "code",
   "execution_count": 22,
   "id": "a689f733",
   "metadata": {},
   "outputs": [
    {
     "ename": "SyntaxError",
     "evalue": "cannot assign to lambda (1521027477.py, line 2)",
     "output_type": "error",
     "traceback": [
      "\u001b[1;36m  File \u001b[1;32m\"C:\\Users\\홍련\\AppData\\Local\\Temp\\ipykernel_86328\\1521027477.py\"\u001b[1;36m, line \u001b[1;32m2\u001b[0m\n\u001b[1;33m    add10_2 = lambda x: y=10 : x+y\u001b[0m\n\u001b[1;37m              ^\u001b[0m\n\u001b[1;31mSyntaxError\u001b[0m\u001b[1;31m:\u001b[0m cannot assign to lambda\n"
     ]
    }
   ],
   "source": [
    "# lambda 내에서는 변수 생성 불가\n",
    "add10_2 = lambda x: y=10; x+y\n",
    "add10_2(5)"
   ]
  },
  {
   "cell_type": "code",
   "execution_count": 24,
   "id": "fc976d94",
   "metadata": {},
   "outputs": [
    {
     "data": {
      "text/plain": [
       "15"
      ]
     },
     "execution_count": 24,
     "metadata": {},
     "output_type": "execute_result"
    }
   ],
   "source": [
    "# 단, 람다 표현식 밖의 변수는 사용 가능\n",
    "y = 10\n",
    "add10_3 = lambda x: x+y\n",
    "add10_3(5)"
   ]
  },
  {
   "cell_type": "code",
   "execution_count": 37,
   "id": "0655a061",
   "metadata": {},
   "outputs": [
    {
     "name": "stdout",
     "output_type": "stream",
     "text": [
      "64\n",
      "9\n"
     ]
    }
   ],
   "source": [
    "# lambda에서 if else 활용\n",
    "evensquare = lambda x: x * x if x % 2 == 0 else x\n",
    "print(evensquare(8))\n",
    "print(evensquare(9))\n"
   ]
  },
  {
   "cell_type": "markdown",
   "id": "fb83ca20",
   "metadata": {},
   "source": [
    "### map, applymap, apply 비교\n",
    "|             | map                    | applymap   | apply                     |\n",
    "|:------------|:-----------------------|:-----------|:--------------------------|\n",
    "| Object      | Series                 | DataFrame  | Series, DataFrame         |\n",
    "| Argument    | Dict, Series, callable | callable   | callable                  |\n",
    "| Elementwise | O                      | O          | O                         |\n",
    "| Aggregation | X                      | X          | O                         |\n",
    "| 활용사례    | 변환, 매핑             | 변환       | 좀더 복잡한 함수          |\n",
    "| 반환값      | Series                 | DataFrame  | Scalar, Series, DataFrame |"
   ]
  },
  {
   "cell_type": "markdown",
   "id": "23365fbd",
   "metadata": {},
   "source": [
    "### map 활용 : Series의 각 값에 임의의 함수를 적용한 후 1차원 배열로 돌려줌"
   ]
  },
  {
   "cell_type": "code",
   "execution_count": 2,
   "id": "060d19c1",
   "metadata": {},
   "outputs": [
    {
     "data": {
      "text/html": [
       "<div>\n",
       "<style scoped>\n",
       "    .dataframe tbody tr th:only-of-type {\n",
       "        vertical-align: middle;\n",
       "    }\n",
       "\n",
       "    .dataframe tbody tr th {\n",
       "        vertical-align: top;\n",
       "    }\n",
       "\n",
       "    .dataframe thead th {\n",
       "        text-align: right;\n",
       "    }\n",
       "</style>\n",
       "<table border=\"1\" class=\"dataframe\">\n",
       "  <thead>\n",
       "    <tr style=\"text-align: right;\">\n",
       "      <th></th>\n",
       "      <th>x1</th>\n",
       "      <th>x2</th>\n",
       "      <th>x3</th>\n",
       "    </tr>\n",
       "  </thead>\n",
       "  <tbody>\n",
       "    <tr>\n",
       "      <th>A</th>\n",
       "      <td>59.440307</td>\n",
       "      <td>40.260871</td>\n",
       "      <td>-80.516223</td>\n",
       "    </tr>\n",
       "    <tr>\n",
       "      <th>B</th>\n",
       "      <td>11.512570</td>\n",
       "      <td>-75.306522</td>\n",
       "      <td>-78.411780</td>\n",
       "    </tr>\n",
       "    <tr>\n",
       "      <th>C</th>\n",
       "      <td>146.157577</td>\n",
       "      <td>157.607553</td>\n",
       "      <td>-17.131776</td>\n",
       "    </tr>\n",
       "    <tr>\n",
       "      <th>D</th>\n",
       "      <td>-91.448182</td>\n",
       "      <td>86.013945</td>\n",
       "      <td>35.880192</td>\n",
       "    </tr>\n",
       "  </tbody>\n",
       "</table>\n",
       "</div>"
      ],
      "text/plain": [
       "           x1          x2         x3\n",
       "A   59.440307   40.260871 -80.516223\n",
       "B   11.512570  -75.306522 -78.411780\n",
       "C  146.157577  157.607553 -17.131776\n",
       "D  -91.448182   86.013945  35.880192"
      ]
     },
     "metadata": {},
     "output_type": "display_data"
    }
   ],
   "source": [
    "# 샘플 데이터프레임 생성\n",
    "np.random.seed(1004)\n",
    "df1 = pd.DataFrame(np.random.randn(4, 3)*100, columns=['x1','x2','x3'], index=['A','B','C','D'])\n",
    "display(df1)"
   ]
  },
  {
   "cell_type": "code",
   "execution_count": 3,
   "id": "4d6017aa",
   "metadata": {},
   "outputs": [
    {
     "name": "stderr",
     "output_type": "stream",
     "text": [
      "D:\\python\\python-3.9.10.amd64\\lib\\site-packages\\pandas\\core\\base.py:890: RuntimeWarning: invalid value encountered in sqrt\n",
      "  new_values = map_f(values, mapper)\n"
     ]
    },
    {
     "data": {
      "text/plain": [
       "A     7.709754\n",
       "B     3.393018\n",
       "C    12.089565\n",
       "D          NaN\n",
       "Name: x1, dtype: float64"
      ]
     },
     "execution_count": 3,
     "metadata": {},
     "output_type": "execute_result"
    }
   ],
   "source": [
    "# map 메서드로 기본함수 적용하기\n",
    "df1.x1.map(np.sqrt)"
   ]
  },
  {
   "cell_type": "code",
   "execution_count": 4,
   "id": "52f3eaec",
   "metadata": {},
   "outputs": [
    {
     "data": {
      "text/plain": [
       "A     59.44\n",
       "B     11.51\n",
       "C    146.16\n",
       "D    -91.45\n",
       "Name: x1, dtype: object"
      ]
     },
     "execution_count": 4,
     "metadata": {},
     "output_type": "execute_result"
    }
   ],
   "source": [
    "# 사용자 정의 함수 적용하기\n",
    "def point2(x):\n",
    "    return '%.2f'%x\n",
    "\n",
    "df1.x1.map(point2)"
   ]
  },
  {
   "cell_type": "code",
   "execution_count": 5,
   "id": "6134ba08",
   "metadata": {},
   "outputs": [
    {
     "data": {
      "text/plain": [
       "A     59.44\n",
       "B     11.51\n",
       "C    146.16\n",
       "D    -91.45\n",
       "Name: x1, dtype: object"
      ]
     },
     "execution_count": 5,
     "metadata": {},
     "output_type": "execute_result"
    }
   ],
   "source": [
    "# lambda로 사용 가능\n",
    "f02 = lambda x: '%.2f'%x\n",
    "df1.x1.map(f02)"
   ]
  },
  {
   "cell_type": "code",
   "execution_count": 6,
   "id": "556bfee8",
   "metadata": {},
   "outputs": [
    {
     "data": {
      "text/plain": [
       "A     59.440\n",
       "B     11.513\n",
       "C    146.158\n",
       "D    -91.448\n",
       "Name: x1, dtype: object"
      ]
     },
     "execution_count": 6,
     "metadata": {},
     "output_type": "execute_result"
    }
   ],
   "source": [
    "# 사용자 정의 함수에 복수 인자 넣을 경우에는 lambda로만 가능, 소수점 자리수 그때그때 지정하기\n",
    "def pointn(x, y):\n",
    "    return f'%.{y}f'%x\n",
    "\n",
    "df1.x1.map(lambda x: pointn(x, 3))"
   ]
  },
  {
   "cell_type": "code",
   "execution_count": 7,
   "id": "5830afff",
   "metadata": {},
   "outputs": [
    {
     "data": {
      "text/plain": [
       "[100, 121, 144, 169, 196, 225, 256, 289, 324, 361]"
      ]
     },
     "execution_count": 7,
     "metadata": {},
     "output_type": "execute_result"
    }
   ],
   "source": [
    "# map(function. sequence) : 함수 형식으로 적용, 각 시퀀스마다 함수 적용\n",
    "list(map(lambda x: x*x, range(10, 20)))"
   ]
  },
  {
   "cell_type": "code",
   "execution_count": 8,
   "id": "ef7f0a9d",
   "metadata": {},
   "outputs": [
    {
     "data": {
      "text/plain": [
       "['59.44', '11.51', '146.16', '-91.45']"
      ]
     },
     "execution_count": 8,
     "metadata": {},
     "output_type": "execute_result"
    }
   ],
   "source": [
    "# 사용자 정의 함수 적용\n",
    "list(map(point2, df1.x1))"
   ]
  },
  {
   "cell_type": "markdown",
   "id": "3924eea8",
   "metadata": {},
   "source": [
    "### applymap 활용 : DataFrame의 각 값에 임의의 함수를 적용한 후 2차원 배열로 돌려줌"
   ]
  },
  {
   "cell_type": "code",
   "execution_count": 9,
   "id": "db231067",
   "metadata": {},
   "outputs": [
    {
     "data": {
      "text/html": [
       "<div>\n",
       "<style scoped>\n",
       "    .dataframe tbody tr th:only-of-type {\n",
       "        vertical-align: middle;\n",
       "    }\n",
       "\n",
       "    .dataframe tbody tr th {\n",
       "        vertical-align: top;\n",
       "    }\n",
       "\n",
       "    .dataframe thead th {\n",
       "        text-align: right;\n",
       "    }\n",
       "</style>\n",
       "<table border=\"1\" class=\"dataframe\">\n",
       "  <thead>\n",
       "    <tr style=\"text-align: right;\">\n",
       "      <th></th>\n",
       "      <th>x1</th>\n",
       "      <th>x2</th>\n",
       "      <th>x3</th>\n",
       "    </tr>\n",
       "  </thead>\n",
       "  <tbody>\n",
       "    <tr>\n",
       "      <th>A</th>\n",
       "      <td>59.44</td>\n",
       "      <td>40.26</td>\n",
       "      <td>-80.52</td>\n",
       "    </tr>\n",
       "    <tr>\n",
       "      <th>B</th>\n",
       "      <td>11.51</td>\n",
       "      <td>-75.31</td>\n",
       "      <td>-78.41</td>\n",
       "    </tr>\n",
       "    <tr>\n",
       "      <th>C</th>\n",
       "      <td>146.16</td>\n",
       "      <td>157.61</td>\n",
       "      <td>-17.13</td>\n",
       "    </tr>\n",
       "    <tr>\n",
       "      <th>D</th>\n",
       "      <td>-91.45</td>\n",
       "      <td>86.01</td>\n",
       "      <td>35.88</td>\n",
       "    </tr>\n",
       "  </tbody>\n",
       "</table>\n",
       "</div>"
      ],
      "text/plain": [
       "       x1      x2      x3\n",
       "A   59.44   40.26  -80.52\n",
       "B   11.51  -75.31  -78.41\n",
       "C  146.16  157.61  -17.13\n",
       "D  -91.45   86.01   35.88"
      ]
     },
     "execution_count": 9,
     "metadata": {},
     "output_type": "execute_result"
    }
   ],
   "source": [
    "df1.applymap(f02)"
   ]
  },
  {
   "cell_type": "markdown",
   "id": "2eba82d0",
   "metadata": {},
   "source": [
    "### apply 활용 : DataFrame에 대해 row/column 로 함수 적용"
   ]
  },
  {
   "cell_type": "code",
   "execution_count": 10,
   "id": "5276f051",
   "metadata": {},
   "outputs": [
    {
     "data": {
      "text/html": [
       "<div>\n",
       "<style scoped>\n",
       "    .dataframe tbody tr th:only-of-type {\n",
       "        vertical-align: middle;\n",
       "    }\n",
       "\n",
       "    .dataframe tbody tr th {\n",
       "        vertical-align: top;\n",
       "    }\n",
       "\n",
       "    .dataframe thead th {\n",
       "        text-align: right;\n",
       "    }\n",
       "</style>\n",
       "<table border=\"1\" class=\"dataframe\">\n",
       "  <thead>\n",
       "    <tr style=\"text-align: right;\">\n",
       "      <th></th>\n",
       "      <th>x1</th>\n",
       "      <th>x2</th>\n",
       "      <th>x3</th>\n",
       "    </tr>\n",
       "  </thead>\n",
       "  <tbody>\n",
       "    <tr>\n",
       "      <th>A</th>\n",
       "      <td>59.440307</td>\n",
       "      <td>40.260871</td>\n",
       "      <td>-80.516223</td>\n",
       "    </tr>\n",
       "    <tr>\n",
       "      <th>B</th>\n",
       "      <td>11.512570</td>\n",
       "      <td>-75.306522</td>\n",
       "      <td>-78.411780</td>\n",
       "    </tr>\n",
       "    <tr>\n",
       "      <th>C</th>\n",
       "      <td>146.157577</td>\n",
       "      <td>157.607553</td>\n",
       "      <td>-17.131776</td>\n",
       "    </tr>\n",
       "    <tr>\n",
       "      <th>D</th>\n",
       "      <td>-91.448182</td>\n",
       "      <td>86.013945</td>\n",
       "      <td>35.880192</td>\n",
       "    </tr>\n",
       "  </tbody>\n",
       "</table>\n",
       "</div>"
      ],
      "text/plain": [
       "           x1          x2         x3\n",
       "A   59.440307   40.260871 -80.516223\n",
       "B   11.512570  -75.306522 -78.411780\n",
       "C  146.157577  157.607553 -17.131776\n",
       "D  -91.448182   86.013945  35.880192"
      ]
     },
     "execution_count": 10,
     "metadata": {},
     "output_type": "execute_result"
    }
   ],
   "source": [
    "df1"
   ]
  },
  {
   "cell_type": "code",
   "execution_count": 11,
   "id": "fc5cd124",
   "metadata": {},
   "outputs": [
    {
     "data": {
      "text/plain": [
       "A     59.440307\n",
       "B     11.512570\n",
       "C    157.607553\n",
       "D     86.013945\n",
       "dtype: float64"
      ]
     },
     "execution_count": 11,
     "metadata": {},
     "output_type": "execute_result"
    }
   ],
   "source": [
    "df1.apply(max, axis=1)"
   ]
  },
  {
   "cell_type": "code",
   "execution_count": 12,
   "id": "afc9a0de",
   "metadata": {},
   "outputs": [
    {
     "data": {
      "text/plain": [
       "x1    237.605758\n",
       "x2    232.914075\n",
       "x3    116.396416\n",
       "dtype: float64"
      ]
     },
     "execution_count": 12,
     "metadata": {},
     "output_type": "execute_result"
    }
   ],
   "source": [
    "f = lambda x: x.max() - x.min()\n",
    "df1.apply(f)  # axis = 0 생략 가능"
   ]
  },
  {
   "cell_type": "code",
   "execution_count": 13,
   "id": "e2905795",
   "metadata": {},
   "outputs": [
    {
     "data": {
      "text/plain": [
       "A    139.956530\n",
       "B     89.924350\n",
       "C    174.739328\n",
       "D    177.462127\n",
       "dtype: float64"
      ]
     },
     "execution_count": 13,
     "metadata": {},
     "output_type": "execute_result"
    }
   ],
   "source": [
    "df1.apply(f, axis = 1)"
   ]
  },
  {
   "cell_type": "code",
   "execution_count": 14,
   "id": "2fe1a11f",
   "metadata": {},
   "outputs": [
    {
     "data": {
      "text/plain": [
       "A    139.956530\n",
       "B     89.924350\n",
       "C    174.739328\n",
       "D    177.462127\n",
       "dtype: float64"
      ]
     },
     "execution_count": 14,
     "metadata": {},
     "output_type": "execute_result"
    }
   ],
   "source": [
    "df1.apply(f, 1)  # axis 문구 생략 가능"
   ]
  },
  {
   "cell_type": "code",
   "execution_count": 15,
   "id": "549bedba",
   "metadata": {},
   "outputs": [
    {
     "data": {
      "text/html": [
       "<div>\n",
       "<style scoped>\n",
       "    .dataframe tbody tr th:only-of-type {\n",
       "        vertical-align: middle;\n",
       "    }\n",
       "\n",
       "    .dataframe tbody tr th {\n",
       "        vertical-align: top;\n",
       "    }\n",
       "\n",
       "    .dataframe thead th {\n",
       "        text-align: right;\n",
       "    }\n",
       "</style>\n",
       "<table border=\"1\" class=\"dataframe\">\n",
       "  <thead>\n",
       "    <tr style=\"text-align: right;\">\n",
       "      <th></th>\n",
       "      <th>x1</th>\n",
       "      <th>x2</th>\n",
       "      <th>x3</th>\n",
       "    </tr>\n",
       "  </thead>\n",
       "  <tbody>\n",
       "    <tr>\n",
       "      <th>min</th>\n",
       "      <td>-91.448182</td>\n",
       "      <td>-75.306522</td>\n",
       "      <td>-80.516223</td>\n",
       "    </tr>\n",
       "    <tr>\n",
       "      <th>max</th>\n",
       "      <td>146.157577</td>\n",
       "      <td>157.607553</td>\n",
       "      <td>35.880192</td>\n",
       "    </tr>\n",
       "  </tbody>\n",
       "</table>\n",
       "</div>"
      ],
      "text/plain": [
       "             x1          x2         x3\n",
       "min  -91.448182  -75.306522 -80.516223\n",
       "max  146.157577  157.607553  35.880192"
      ]
     },
     "execution_count": 15,
     "metadata": {},
     "output_type": "execute_result"
    }
   ],
   "source": [
    "# 여러 값 리턴시 Series 사용\n",
    "f2 = lambda x: pd.Series([x.min(), x.max()], index=['min','max'])\n",
    "df1.apply(f2)"
   ]
  },
  {
   "cell_type": "code",
   "execution_count": null,
   "id": "4fa72a84",
   "metadata": {},
   "outputs": [],
   "source": []
  }
 ],
 "metadata": {
  "kernelspec": {
   "display_name": "Python 3 (ipykernel)",
   "language": "python",
   "name": "python3"
  },
  "language_info": {
   "codemirror_mode": {
    "name": "ipython",
    "version": 3
   },
   "file_extension": ".py",
   "mimetype": "text/x-python",
   "name": "python",
   "nbconvert_exporter": "python",
   "pygments_lexer": "ipython3",
   "version": "3.9.10"
  }
 },
 "nbformat": 4,
 "nbformat_minor": 5
}
