{
 "cells": [
  {
   "cell_type": "code",
   "execution_count": 2,
   "metadata": {},
   "outputs": [],
   "source": [
    "import pandas as pd\n",
    "import numpy as np\n",
    "import seaborn as sns\n",
    "import re"
   ]
  },
  {
   "cell_type": "code",
   "execution_count": 3,
   "metadata": {},
   "outputs": [
    {
     "name": "stdout",
     "output_type": "stream",
     "text": [
      "<class 're.Match'>\n"
     ]
    },
    {
     "data": {
      "text/plain": [
       "<re.Match object; span=(10, 17), match='example'>"
      ]
     },
     "execution_count": 3,
     "metadata": {},
     "output_type": "execute_result"
    }
   ],
   "source": [
    "# search(pattern, text) :  parttern과 일치하는 첫번째 부분을 re.match 형식으로 반환\n",
    "txt1 = '제 이메일 주소는 example@email.com 이고, 친구의 이메일 주소는 friend@email.com 입니다.'\n",
    "tmp1 = re.search('[A-Za-z]+', txt1)\n",
    "print(type(tmp1))\n",
    "tmp1"
   ]
  },
  {
   "cell_type": "code",
   "execution_count": 4,
   "metadata": {},
   "outputs": [
    {
     "name": "stdout",
     "output_type": "stream",
     "text": [
      "시작 위치를 반환 : 10\n",
      "종료 위치를 반환 : 17\n",
      "시작,종료를 튜플로 반환 : (10, 17)\n",
      "매칭 문자열 반환 : example\n"
     ]
    }
   ],
   "source": [
    "# re.Match 오브젝트 활용\n",
    "print(\"시작 위치를 반환 :\", tmp1.start())\n",
    "print(\"종료 위치를 반환 :\", tmp1.end())\n",
    "print(\"시작,종료를 튜플로 반환 :\", tmp1.span())\n",
    "print(\"매칭 문자열 반환 :\", tmp1.group())\n"
   ]
  },
  {
   "cell_type": "code",
   "execution_count": 5,
   "metadata": {},
   "outputs": [
    {
     "name": "stdout",
     "output_type": "stream",
     "text": [
      "<class 're.Match'>\n"
     ]
    },
    {
     "data": {
      "text/plain": [
       "<re.Match object; span=(0, 1), match='제'>"
      ]
     },
     "execution_count": 5,
     "metadata": {},
     "output_type": "execute_result"
    }
   ],
   "source": [
    "# match(pattern, text) : 시작 부분에서 pattern과 일치하는 부분을 re.match 형식으로 반환\n",
    "txt1 = '제 이메일 주소는 example@email.com 이고, 친구의 이메일 주소는 friend@email.com 입니다.'\n",
    "tmp2 = re.match('[A-Za-z가-힇]+', txt1)\n",
    "print(type(tmp2))\n",
    "tmp2"
   ]
  },
  {
   "cell_type": "code",
   "execution_count": 6,
   "metadata": {},
   "outputs": [
    {
     "name": "stdout",
     "output_type": "stream",
     "text": [
      "<class 're.Match'>\n"
     ]
    },
    {
     "data": {
      "text/plain": [
       "<re.Match object; span=(0, 17), match='example@email.com'>"
      ]
     },
     "execution_count": 6,
     "metadata": {},
     "output_type": "execute_result"
    }
   ],
   "source": [
    "# fullmatch(pattern, text) : 문자열 전체가 일치하는 경우 re.match 형식으로 반환\n",
    "txt2 = 'example@email.com'\n",
    "tmp2 = re.fullmatch('[A-Za-z]+@[a-z]+\\.[A-Za-z]{2,}', txt2)\n",
    "print(type(tmp2))\n",
    "tmp2"
   ]
  },
  {
   "cell_type": "code",
   "execution_count": 4,
   "metadata": {},
   "outputs": [
    {
     "name": "stdout",
     "output_type": "stream",
     "text": [
      "<class 'list'>\n",
      "['제', '이메일', '주소는', 'example', 'email', 'com', '이고', '친구의', '이메일', '주소는', 'friend', 'email', 'com', '입니다'] \t\n"
     ]
    }
   ],
   "source": [
    "# findall(pattern, text) : pattern과 일치하는 모든 부분을 list로 반환\n",
    "txt1 = '제 이메일 주소는 example@email.com 이고, 친구의 이메일 주소는 friend@email.com 입니다.'\n",
    "tmp3 = re.findall('[A-Za-z가-힇]+', txt1)\n",
    "print(type(tmp3))\n",
    "print(tmp3, '\\t')"
   ]
  },
  {
   "cell_type": "code",
   "execution_count": 5,
   "metadata": {},
   "outputs": [
    {
     "name": "stdout",
     "output_type": "stream",
     "text": [
      "<class 'callable_iterator'>\n"
     ]
    },
    {
     "data": {
      "text/plain": [
       "<callable_iterator at 0x1d906cccb50>"
      ]
     },
     "execution_count": 5,
     "metadata": {},
     "output_type": "execute_result"
    }
   ],
   "source": [
    "# finditer(pattern, text) : pattern과 일치하는 모든 부분을 iterator로 반환\n",
    "txt1 = '제 이메일 주소는 example@email.com 이고, 친구의 이메일 주소는 friend@email.com 입니다.'\n",
    "tmp4 = re.finditer('[A-Za-z가-힇]+', txt1)\n",
    "print(type(tmp4))\n",
    "tmp4"
   ]
  },
  {
   "cell_type": "code",
   "execution_count": 6,
   "metadata": {},
   "outputs": [
    {
     "data": {
      "text/plain": [
       "<re.Match object; span=(0, 1), match='제'>"
      ]
     },
     "execution_count": 6,
     "metadata": {},
     "output_type": "execute_result"
    }
   ],
   "source": [
    "# 이터레이터 사용 예시\n",
    "next(tmp4)"
   ]
  },
  {
   "cell_type": "code",
   "execution_count": 7,
   "metadata": {},
   "outputs": [
    {
     "data": {
      "text/plain": [
       "<re.Match object; span=(2, 5), match='이메일'>"
      ]
     },
     "execution_count": 7,
     "metadata": {},
     "output_type": "execute_result"
    }
   ],
   "source": [
    "next(tmp4)"
   ]
  },
  {
   "cell_type": "code",
   "execution_count": 8,
   "metadata": {},
   "outputs": [
    {
     "name": "stdout",
     "output_type": "stream",
     "text": [
      "<re.Match object; span=(6, 9), match='주소는'>\n",
      "<re.Match object; span=(10, 17), match='example'>\n",
      "<re.Match object; span=(18, 23), match='email'>\n",
      "<re.Match object; span=(24, 27), match='com'>\n",
      "<re.Match object; span=(28, 30), match='이고'>\n",
      "<re.Match object; span=(32, 35), match='친구의'>\n",
      "<re.Match object; span=(36, 39), match='이메일'>\n",
      "<re.Match object; span=(40, 43), match='주소는'>\n",
      "<re.Match object; span=(44, 50), match='friend'>\n",
      "<re.Match object; span=(51, 56), match='email'>\n",
      "<re.Match object; span=(57, 60), match='com'>\n",
      "<re.Match object; span=(61, 64), match='입니다'>\n"
     ]
    }
   ],
   "source": [
    "for i in tmp4:\n",
    "    print(i)"
   ]
  },
  {
   "cell_type": "code",
   "execution_count": 32,
   "metadata": {},
   "outputs": [
    {
     "data": {
      "text/plain": [
       "[<re.Match object; span=(0, 1), match='제'>,\n",
       " <re.Match object; span=(2, 5), match='이메일'>,\n",
       " <re.Match object; span=(6, 9), match='주소는'>,\n",
       " <re.Match object; span=(10, 17), match='example'>,\n",
       " <re.Match object; span=(18, 23), match='email'>,\n",
       " <re.Match object; span=(24, 27), match='com'>,\n",
       " <re.Match object; span=(28, 30), match='이고'>,\n",
       " <re.Match object; span=(32, 35), match='친구의'>,\n",
       " <re.Match object; span=(36, 39), match='이메일'>,\n",
       " <re.Match object; span=(40, 43), match='주소는'>,\n",
       " <re.Match object; span=(44, 50), match='friend'>,\n",
       " <re.Match object; span=(51, 56), match='email'>,\n",
       " <re.Match object; span=(57, 60), match='com'>,\n",
       " <re.Match object; span=(61, 64), match='입니다'>]"
      ]
     },
     "execution_count": 32,
     "metadata": {},
     "output_type": "execute_result"
    }
   ],
   "source": [
    "# 이터레이터를 리스트로 반환\n",
    "list(re.finditer('[A-Za-z가-힇]+', txt1))"
   ]
  },
  {
   "cell_type": "code",
   "execution_count": 33,
   "metadata": {},
   "outputs": [
    {
     "data": {
      "text/plain": [
       "[(0, 1),\n",
       " (2, 5),\n",
       " (6, 9),\n",
       " (10, 17),\n",
       " (18, 23),\n",
       " (24, 27),\n",
       " (28, 30),\n",
       " (32, 35),\n",
       " (36, 39),\n",
       " (40, 43),\n",
       " (44, 50),\n",
       " (51, 56),\n",
       " (57, 60),\n",
       " (61, 64)]"
      ]
     },
     "execution_count": 33,
     "metadata": {},
     "output_type": "execute_result"
    }
   ],
   "source": [
    "# 매칭되는 모든 위치 파악\n",
    "[x.span() for x in re.finditer('[A-Za-z가-힇]+', txt1)]"
   ]
  },
  {
   "cell_type": "code",
   "execution_count": 34,
   "metadata": {},
   "outputs": [
    {
     "name": "stdout",
     "output_type": "stream",
     "text": [
      "<class 'str'>\n"
     ]
    },
    {
     "data": {
      "text/plain": [
       "'제 이메일 주소는 example@email.NET 이고, 친구의 이메일 주소는 friend@email.NET 입니다.'"
      ]
     },
     "execution_count": 34,
     "metadata": {},
     "output_type": "execute_result"
    }
   ],
   "source": [
    "# sub(pattern, repl, text, count=0) : pattern과 일치하는 부분을 교체, 횟수 지정가능\n",
    "txt1 = '제 이메일 주소는 example@email.com 이고, 친구의 이메일 주소는 friend@email.co.kr 입니다.'\n",
    "tmp5 = re.sub('\\.[.A-Za-z]+', '.NET', txt1)\n",
    "print(type(tmp5))\n",
    "tmp5"
   ]
  },
  {
   "cell_type": "code",
   "execution_count": 39,
   "metadata": {},
   "outputs": [
    {
     "data": {
      "text/plain": [
       "'제 이메일 주소는 example@email.NET 이고, 친구의 이메일 주소는 friend@email.NET 입니다.'"
      ]
     },
     "execution_count": 39,
     "metadata": {},
     "output_type": "execute_result"
    }
   ],
   "source": [
    "# 괄호로 그룹핑한 경우 변경할 문자열 아네 매치된 문자열 사용 가능\n",
    "txt1 = '제 이메일 주소는 example@email.com 이고, 친구의 이메일 주소는 friend@email.co.kr 입니다.'\n",
    "tmp6 = re.sub(r'([A-Za-z]+)@([a-z]+)\\.[A-Za-z.]{2,}', r'\\1@\\2.NET', txt1)\n",
    "tmp6"
   ]
  },
  {
   "cell_type": "code",
   "execution_count": 10,
   "metadata": {},
   "outputs": [],
   "source": [
    "# split(pattern, text, maxsplit=0) : pattern을 기준으로 text를 분리하여 list로 반환. 분할 횟수 제한 가능\n"
   ]
  },
  {
   "cell_type": "markdown",
   "metadata": {},
   "source": [
    "### 사용 예시"
   ]
  },
  {
   "cell_type": "code",
   "execution_count": 11,
   "metadata": {},
   "outputs": [
    {
     "name": "stdout",
     "output_type": "stream",
     "text": [
      "['example@email.com', 'friend@email.com']\n"
     ]
    }
   ],
   "source": [
    "# 이메일 주소 추출\n",
    "txt1 = '제 이메일 주소는 example@email.com 이고, 친구의 이메일 주소는 friend@email.com 입니다.'\n",
    "email_pattern = r'\\b[A-Za-z0-9.%+-]+@[A-Za-z0-9.-]+\\.[A-Za-z]{2,}\\b'\n",
    "print(re.findall(email_pattern, txt1))"
   ]
  },
  {
   "cell_type": "code",
   "execution_count": 12,
   "metadata": {},
   "outputs": [
    {
     "name": "stdout",
     "output_type": "stream",
     "text": [
      "['010-2345-6789', '010-987-6543', '02-0202-0202']\n"
     ]
    }
   ],
   "source": [
    "# 전화번호 추출\n",
    "txt3 = '피카츄 : 010-2345-6789, 파이리 : 010-987-6543, 꼬부기 : 02-0202-0202'\n",
    "phone_pattern = r'\\b\\d{2,3}-\\d{3,4}-\\d{4}'\n",
    "print(re.findall(phone_pattern, txt3))"
   ]
  },
  {
   "cell_type": "code",
   "execution_count": 13,
   "metadata": {},
   "outputs": [
    {
     "name": "stdout",
     "output_type": "stream",
     "text": [
      "\n",
      " \n",
      " \n",
      " \n",
      "     Example Page \n",
      " \n",
      " \n",
      "     Welcome to the Exmaple Page \n",
      "     This is an example of a simple HTML page. \n",
      "     Visit Example Website  for more information. \n",
      " \n",
      " \n",
      "\n",
      "\n"
     ]
    }
   ],
   "source": [
    "# html 태그 제거\n",
    "html = \"\"\"\n",
    "<htrml>\n",
    "<head>\n",
    "<head>\n",
    "    <title>Example Page</title>\n",
    "</head>\n",
    "<body>\n",
    "    <h1>Welcome to the Exmaple Page</h1>\n",
    "    <p>This is an example of a simple HTML page.</p>\n",
    "    <p>Visit<a href=\"https://www.example.com\">Example Website</a> for more information.</p>\n",
    "</body>\n",
    "</html>\n",
    "\n",
    "\"\"\"\n",
    "\n",
    "print(re.sub(r'<[^>]+>', ' ', html))"
   ]
  },
  {
   "cell_type": "code",
   "execution_count": 14,
   "metadata": {},
   "outputs": [
    {
     "name": "stdout",
     "output_type": "stream",
     "text": [
      "https://www.example.com: \twww.example.com\n",
      "http://example.org: \texample.org\n",
      "https://subdomain.example.co: \tsubdomain.example.co\n",
      "http://another-example.net: \tanother-example.net\n"
     ]
    }
   ],
   "source": [
    "# URL에서 도메인 이름 추출\n",
    "def extract_domain(url):\n",
    "    pattern = r'https?://([A-Za-z0-9.-]+)'\n",
    "    match = re.search(pattern, url)\n",
    "    return match.group(1) if match else None\n",
    "\n",
    "urls = [\n",
    "    'https://www.example.com',\n",
    "    'http://example.org',\n",
    "    'https://subdomain.example.co',\n",
    "    'http://another-example.net'\n",
    "]\n",
    "\n",
    "for url in urls:\n",
    "    print(f'{url}: \\t{extract_domain(url)}')"
   ]
  },
  {
   "cell_type": "code",
   "execution_count": 15,
   "metadata": {},
   "outputs": [
    {
     "name": "stdout",
     "output_type": "stream",
     "text": [
      "2023-03-23 → 03/23/2023\n",
      "2021-12-31 → 12/31/2021\n",
      "2010-01-01 → 01/01/2010\n"
     ]
    }
   ],
   "source": [
    "# 날짜 형식 변경\n",
    "def convert_date_format(date):\n",
    "    pattern =r'(\\d{4})-(\\d{2})-(\\d{2})'\n",
    "    return re.sub(pattern, r'\\2/\\3/\\1', date)\n",
    "\n",
    "dates = ['2023-03-23', '2021-12-31', '2010-01-01']\n",
    "\n",
    "for date in dates:\n",
    "    print(f'{date} → {convert_date_format(date)}')"
   ]
  },
  {
   "cell_type": "code",
   "execution_count": null,
   "metadata": {},
   "outputs": [],
   "source": []
  }
 ],
 "metadata": {
  "kernelspec": {
   "display_name": "Python 3 (ipykernel)",
   "language": "python",
   "name": "python3"
  },
  "language_info": {
   "codemirror_mode": {
    "name": "ipython",
    "version": 3
   },
   "file_extension": ".py",
   "mimetype": "text/x-python",
   "name": "python",
   "nbconvert_exporter": "python",
   "pygments_lexer": "ipython3",
   "version": "3.9.10"
  }
 },
 "nbformat": 4,
 "nbformat_minor": 4
}
