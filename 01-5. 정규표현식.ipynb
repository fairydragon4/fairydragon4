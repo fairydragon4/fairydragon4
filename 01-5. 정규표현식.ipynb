{
 "cells": [
  {
   "cell_type": "code",
   "execution_count": 1,
   "id": "6f5a0663",
   "metadata": {},
   "outputs": [],
   "source": [
    "import pandas as pd\n",
    "import numpy as np\n",
    "import re"
   ]
  },
  {
   "cell_type": "markdown",
   "id": "0b4c0d14",
   "metadata": {},
   "source": [
    "### 메타 문자의 이해"
   ]
  },
  {
   "cell_type": "markdown",
   "id": "50260654",
   "metadata": {},
   "source": [
    "|    | 메타 문자   | 설명                                                    |\n",
    "|---:|:------------|:--------------------------------------------------------|\n",
    "|  0 | [ ]         | [ ] 안의 문자 중 하나와 매치                            |\n",
    "|    |             | 두 문자 사이에 - 를 사용하면 두 문자 사이의 범위를 의미 |\n",
    "|    |             | ^ 사용시 반대를 의미                                    |\n",
    "|  1 | .           | \\n을 제외한 모든 문자와 매치                            |\n",
    "|  2 | *           | 바로 앞의 문자가 0 ~ ∞회 반복                           |\n",
    "|  3 | +           | 바로 앞의 문자가 1 ~ ∞회 반복                           |\n",
    "|  4 | ?           | 바로 앞의 문자가 0 ~ 1회 반복                           |\n",
    "|  5 | {m}         | 바로 앞의 문자가 m회 반복                               |\n",
    "|  6 | {m, n}      | 바로 앞의 문자가 m ~ n회 반복                           |"
   ]
  },
  {
   "cell_type": "markdown",
   "id": "e053b958",
   "metadata": {},
   "source": [
    "|    | 메타 문자   | 설명                                                                       |\n",
    "|---:|:------------|:---------------------------------------------------------------------------|\n",
    "|  0 | \\d          | 숫자와 매치. [0-9]와 동일                                                  |\n",
    "|  1 | \\w          | 문자+숫자와 매치. [a-zA-Z0-9_]와 동일                                      |\n",
    "|  2 | \\s          | 화이트스페이스와 매치. [ \\t\\n\\r\\f\\v]와 동일                                |\n",
    "|  3 | \\b          | 문자 경계와 매치                                                           |\n",
    "|  4 | ^           | 행 시작과 매치                                                             |\n",
    "|  5 | $           | 행 끝과 매치                                                               |\n",
    "|  6 | \\A          | 문자열 시작과 매치, re.MULTILINE 옵션이 있더라도 전체 문자열의 처음과 매치 |\n",
    "|  7 | \\Z          | 문자열 끝과 매치, re.MULTILINE 옵션이 있더라도 전체 문자열의 끝과 매치 |"
   ]
  },
  {
   "cell_type": "markdown",
   "id": "4a3dc145",
   "metadata": {},
   "source": [
    "### 정규식을 이용한 문자열 검색"
   ]
  },
  {
   "cell_type": "markdown",
   "id": "10fa91a2",
   "metadata": {},
   "source": [
    "|    | Method                             | 설명                                                             |\n",
    "|---:|:-----------------------------------|:-----------------------------------------------------------------|\n",
    "|  0 | match(pattern, text)               | text의 처음부터 pattern과 매치하는 부분을 re.match 형식으로 반환 |\n",
    "|  1 | fullmatch(pattern, text)           | text 전체가 pattern과 매치하는 경우 re.match 형식으로 반환       |\n",
    "|  2 | search(pattern, text)              | text 내 pattern과 처음 일치하는 부분을 re.match 형식으로 반환    |\n",
    "|  3 | findall(pattern, text)             | text 내 pattern과 일치하는 모든 부분을 list 형식으로 반환        |\n",
    "|  4 | finditer(pattern, text)            | text 내 pattern과 일치하는 모든 부분을 iterator 형식으로 반환    |\n",
    "|  5 | sub(pattern, repl, text, count=0)  | text 내 pattern과 일치하는 부분을 repl로 변경                    |\n",
    "|  6 | subn(pattern, repl, text, count=0) | 위와 동일하나, (변경된 문자열, 변경 횟수) 의 튜플로 반환         |"
   ]
  },
  {
   "cell_type": "code",
   "execution_count": 2,
   "id": "a455229c",
   "metadata": {},
   "outputs": [
    {
     "name": "stdout",
     "output_type": "stream",
     "text": [
      "<class 're.Match'>\n",
      "<re.Match object; span=(0, 1), match='제'>\n"
     ]
    }
   ],
   "source": [
    "# match(pattern, text) : text의 처음부터 pattern과 매치하는 부분을 re.match 형식으로 반환\n",
    "txt = '제 이메일 주소는 example@email.com 이고, 친구의 이메일 주소는 friend@email.com 입니다.'\n",
    "pat = r'[A-Za-z가-힇]+'\n",
    "\n",
    "regex = re.match(pat, txt)\n",
    "print(type(regex))\n",
    "print(regex)"
   ]
  },
  {
   "cell_type": "code",
   "execution_count": 3,
   "id": "7e3aca17",
   "metadata": {},
   "outputs": [
    {
     "name": "stdout",
     "output_type": "stream",
     "text": [
      "<class 're.Match'>\n",
      "<re.Match object; span=(0, 17), match='example@email.com'>\n"
     ]
    }
   ],
   "source": [
    "# fullmatch(pattern, text) : text 전체가 pattern과 매치하는 경우 re.match 형식으로 반환\n",
    "txt = 'example@email.com'\n",
    "pat = r'[A-Za-z]+@[a-z]+\\.[A-Za-z]{2,}'\n",
    "\n",
    "regex = re.fullmatch(pat, txt)\n",
    "print(type(regex))\n",
    "print(regex)"
   ]
  },
  {
   "cell_type": "code",
   "execution_count": 4,
   "id": "2aa4c553",
   "metadata": {},
   "outputs": [
    {
     "name": "stdout",
     "output_type": "stream",
     "text": [
      "<class 're.Match'>\n",
      "<re.Match object; span=(10, 17), match='example'>\n"
     ]
    }
   ],
   "source": [
    "# search(pattern, text) : text 내 pattern과 처음 일치하는 부분을 re.match 형식으로 반환\n",
    "txt = '제 이메일 주소는 example@email.com 이고, 친구의 이메일 주소는 friend@email.com 입니다.'\n",
    "pat = r'[A-Za-z]+'\n",
    "\n",
    "regex = re.search(pat, txt)\n",
    "print(type(regex))\n",
    "print(regex)"
   ]
  },
  {
   "cell_type": "code",
   "execution_count": 5,
   "id": "3a004058",
   "metadata": {},
   "outputs": [
    {
     "name": "stdout",
     "output_type": "stream",
     "text": [
      "<class 'list'>\n",
      "['제', '이메일', '주소는', 'example', 'email', 'com', '이고', '친구의', '이메일', '주소는', 'friend', 'email', 'com', '입니다']\n"
     ]
    }
   ],
   "source": [
    "# findall(pattern, text) : text 내 pattern과 일치하는 모든 부분을 list 형식으로 반환\n",
    "txt = '제 이메일 주소는 example@email.com 이고, 친구의 이메일 주소는 friend@email.com 입니다.'\n",
    "pat = r'[A-Za-z가-힇]+'\n",
    "\n",
    "regex = re.findall(pat, txt)\n",
    "print(type(regex))\n",
    "print(regex)"
   ]
  },
  {
   "cell_type": "code",
   "execution_count": 6,
   "id": "84c056d7",
   "metadata": {},
   "outputs": [
    {
     "name": "stdout",
     "output_type": "stream",
     "text": [
      "<class 'callable_iterator'>\n"
     ]
    },
    {
     "data": {
      "text/plain": [
       "<callable_iterator at 0x1c58cf87bb0>"
      ]
     },
     "execution_count": 6,
     "metadata": {},
     "output_type": "execute_result"
    }
   ],
   "source": [
    "# finditer(pattern, text) : pattern과 일치하는 모든 부분을 iterator로 반환\n",
    "txt = '제 이메일 주소는 example@email.com 입니다.'\n",
    "pat = r'[A-Za-z가-힇]+'\n",
    "\n",
    "regex = re.finditer(pat, txt)\n",
    "print(type(regex))\n",
    "regex"
   ]
  },
  {
   "cell_type": "code",
   "execution_count": 7,
   "id": "c2c9c595",
   "metadata": {},
   "outputs": [
    {
     "data": {
      "text/plain": [
       "<re.Match object; span=(0, 1), match='제'>"
      ]
     },
     "execution_count": 7,
     "metadata": {},
     "output_type": "execute_result"
    }
   ],
   "source": [
    "# 이터레이터 호출시 next를 반복\n",
    "next(regex)"
   ]
  },
  {
   "cell_type": "code",
   "execution_count": 8,
   "id": "028200a6",
   "metadata": {},
   "outputs": [
    {
     "data": {
      "text/plain": [
       "<re.Match object; span=(2, 5), match='이메일'>"
      ]
     },
     "execution_count": 8,
     "metadata": {},
     "output_type": "execute_result"
    }
   ],
   "source": [
    "next(regex)"
   ]
  },
  {
   "cell_type": "code",
   "execution_count": 9,
   "id": "2830903c",
   "metadata": {},
   "outputs": [
    {
     "name": "stdout",
     "output_type": "stream",
     "text": [
      "<re.Match object; span=(6, 9), match='주소는'>\n",
      "<re.Match object; span=(10, 17), match='example'>\n",
      "<re.Match object; span=(18, 23), match='email'>\n",
      "<re.Match object; span=(24, 27), match='com'>\n",
      "<re.Match object; span=(28, 31), match='입니다'>\n"
     ]
    }
   ],
   "source": [
    "# 한번에 부르기\n",
    "for reg in regex:\n",
    "    print(reg)"
   ]
  },
  {
   "cell_type": "code",
   "execution_count": 10,
   "id": "51d613c5",
   "metadata": {},
   "outputs": [
    {
     "data": {
      "text/plain": [
       "[<re.Match object; span=(0, 1), match='제'>,\n",
       " <re.Match object; span=(2, 5), match='이메일'>,\n",
       " <re.Match object; span=(6, 9), match='주소는'>,\n",
       " <re.Match object; span=(10, 17), match='example'>,\n",
       " <re.Match object; span=(18, 23), match='email'>,\n",
       " <re.Match object; span=(24, 27), match='com'>,\n",
       " <re.Match object; span=(28, 31), match='입니다'>]"
      ]
     },
     "execution_count": 10,
     "metadata": {},
     "output_type": "execute_result"
    }
   ],
   "source": [
    "# 이터레이터를 리스트로 반환\n",
    "txt = '제 이메일 주소는 example@email.com 입니다.'\n",
    "pat = r'[A-Za-z가-힇]+'\n",
    "\n",
    "list(re.finditer(pat, txt))"
   ]
  },
  {
   "cell_type": "code",
   "execution_count": 11,
   "id": "d8dcf519",
   "metadata": {},
   "outputs": [
    {
     "name": "stdout",
     "output_type": "stream",
     "text": [
      "<class 'str'>\n",
      "제 이메일 주소는 example@email.NET 이고, 친구의 이메일 주소는 friend@email.NET 입니다.\n"
     ]
    }
   ],
   "source": [
    "# sub(pattern, repl, text, count=0) : text 내 pattern과 일치하는 부분을 repl로 변경\n",
    "txt = '제 이메일 주소는 example@email.com 이고, 친구의 이메일 주소는 friend@email.co.kr 입니다.'\n",
    "pat = r'\\.[.A-Za-z]+'\n",
    "repl = '.NET'\n",
    "\n",
    "regex = re.sub(pat, repl, txt)\n",
    "print(type(regex))\n",
    "print(regex)"
   ]
  },
  {
   "cell_type": "code",
   "execution_count": 12,
   "id": "8773334e",
   "metadata": {},
   "outputs": [
    {
     "name": "stdout",
     "output_type": "stream",
     "text": [
      "<class 'str'>\n",
      "제 이메일 주소는 example@email.NET 이고, 친구의 이메일 주소는 friend@email.co.kr 입니다.\n"
     ]
    }
   ],
   "source": [
    "# 변경 횟수 지정하기\n",
    "txt = '제 이메일 주소는 example@email.com 이고, 친구의 이메일 주소는 friend@email.co.kr 입니다.'\n",
    "pat = r'\\.[.A-Za-z]+'\n",
    "repl = '.NET'\n",
    "\n",
    "regex = re.sub(pat, repl, txt, count=1)\n",
    "print(type(regex))\n",
    "print(regex)"
   ]
  },
  {
   "cell_type": "code",
   "execution_count": 13,
   "id": "f58f80a0",
   "metadata": {},
   "outputs": [
    {
     "name": "stdout",
     "output_type": "stream",
     "text": [
      "<class 'tuple'>\n",
      "('제 이메일 주소는 example@email.NET 이고, 친구의 이메일 주소는 friend@email.NET 입니다.', 2)\n"
     ]
    }
   ],
   "source": [
    "# 변경 횟수 체크시 sub 대신 subn 사용\n",
    "regex = re.subn(pat, repl, txt)\n",
    "print(type(regex))\n",
    "print(regex)"
   ]
  },
  {
   "cell_type": "markdown",
   "id": "d541f0f1",
   "metadata": {},
   "source": [
    "### complie 메서드 사용하기"
   ]
  },
  {
   "cell_type": "markdown",
   "id": "b2c0dfd6",
   "metadata": {},
   "source": [
    "* complie(pattern) : 정규식을 컴파일하여 반복적으로 패턴 사용\n",
    "> * re.DOTALL : . 가 줄바꿈 문자도 매치하도록 변경  \n",
    "> * re.I : 대소문자 구별없이 매치  \n",
    "> * re.MULTILINE : ^, $ 메타 문자를 문자열의 각 줄마다 적용\n",
    "> * re.X : 문자열에 사용된 화이트스페이스 제거, pattern 가독성 높이기 위해 멀티라인으로 작성시 활용 가능"
   ]
  },
  {
   "cell_type": "code",
   "execution_count": 14,
   "id": "fd492e9c",
   "metadata": {},
   "outputs": [
    {
     "name": "stdout",
     "output_type": "stream",
     "text": [
      "<class 're.Match'>\n",
      "<re.Match object; span=(0, 1), match='제'>\n"
     ]
    }
   ],
   "source": [
    "# re.complie(pattern) 으로 컴파일하여 반복적으로 패턴 사용 가능\n",
    "txt = '제 이메일 주소는 example@email.com 이고, 친구의 이메일 주소는 friend@email.com 입니다.'\n",
    "pat = r'[A-Za-z가-힇]+'\n",
    "p = re.compile(pat)\n",
    "\n",
    "regex = p.match(txt)  # pattern을 p가 기억하고 있음\n",
    "print(type(regex))\n",
    "print(regex)"
   ]
  },
  {
   "cell_type": "code",
   "execution_count": 15,
   "id": "a1d5c3ac",
   "metadata": {},
   "outputs": [
    {
     "name": "stdout",
     "output_type": "stream",
     "text": [
      "None\n",
      "\n",
      "<re.Match object; span=(0, 3), match='a\\nb'>\n"
     ]
    }
   ],
   "source": [
    "# re.DOTALL 사용시 . 가 줄바꿈 문자도 매치\n",
    "p1 = re.compile(r'a.b')\n",
    "\n",
    "regex = p1.match('a\\nb')\n",
    "print(regex)\n",
    "print()\n",
    "\n",
    "p2 = re.compile(r'a.b', re.DOTALL)\n",
    "\n",
    "regex = p2.match('a\\nb')\n",
    "print(regex)"
   ]
  },
  {
   "cell_type": "code",
   "execution_count": 16,
   "id": "cb418008",
   "metadata": {},
   "outputs": [
    {
     "name": "stdout",
     "output_type": "stream",
     "text": [
      "<re.Match object; span=(1, 6), match='ython'>\n",
      "\n",
      "<re.Match object; span=(0, 6), match='Python'>\n"
     ]
    }
   ],
   "source": [
    "# re.I 사용시 대소문자 구별 없이 매치\n",
    "p1 = re.compile(r'[a-z]+')\n",
    "\n",
    "regex = p1.search('Python')\n",
    "print(regex)\n",
    "print()\n",
    "\n",
    "p2 = re.compile(r'[a-z]+', re.I)\n",
    "\n",
    "regex = p2.search('Python')\n",
    "print(regex)"
   ]
  },
  {
   "cell_type": "code",
   "execution_count": 17,
   "id": "9e850974",
   "metadata": {},
   "outputs": [
    {
     "name": "stdout",
     "output_type": "stream",
     "text": [
      "['python one']\n",
      "\n",
      "['python one', 'python two', 'python three']\n"
     ]
    }
   ],
   "source": [
    "# re.M 사용시 문자열 전체가 아닌 각 행마다 첫머리 확인\n",
    "p1 = re.compile(r'^python\\s\\w+')\n",
    "\n",
    "data = '''python one\n",
    "life is too short\n",
    "python two\n",
    "you need python\n",
    "python three\n",
    "'''\n",
    "\n",
    "regex = p1.findall(data)\n",
    "print(regex)\n",
    "print()\n",
    "\n",
    "p2 = re.compile(r'^python\\s\\w+', re.M)\n",
    "\n",
    "data = '''python one\n",
    "life is too short\n",
    "python two\n",
    "you need python\n",
    "python three\n",
    "'''\n",
    "\n",
    "regex = p2.findall(data)\n",
    "print(regex)"
   ]
  },
  {
   "cell_type": "code",
   "execution_count": 18,
   "id": "1f4b6268",
   "metadata": {},
   "outputs": [],
   "source": [
    "# re.VERBOSE 사용시 문자열에 사용된 화이트스페이스는 컴파일할 때 제거됨. 단, [] 안에 사용한 화이트스페이스는 제외\n",
    "# 복잡한 정규식을 가독성 있게 펼쳐둠\n",
    "charref = re.compile(r'''\n",
    " &[#]                              # Start of a numeric entity referencd\n",
    " (\n",
    "     0[0-7]+                    # Octal form\n",
    "     | [0-9]+                    # Decimal form\n",
    "     | x[0-9a-fA-F]+     # Hexadecimal form\n",
    " )\n",
    " ;                                        # Trailing semicolon\n",
    "''', re.VERBOSE)"
   ]
  },
  {
   "cell_type": "markdown",
   "id": "24c18f87",
   "metadata": {},
   "source": [
    "### match 객체의 메서드"
   ]
  },
  {
   "cell_type": "markdown",
   "id": "c7101378",
   "metadata": {},
   "source": [
    "|    | Method   | 목적                                     |\n",
    "|---:|:---------|:-----------------------------------------|\n",
    "|  0 | group    | 매치된 문자열을 반환                     |\n",
    "|  1 | start    | 매치된 문자열의 시작 위치를 반환         |\n",
    "|  2 | end      | 매치된 문자열의 끝 위치를 반환           |\n",
    "|  3 | span     | 매치된 문자열의 (시작, 끝)의 튜플을 반환 |"
   ]
  },
  {
   "cell_type": "code",
   "execution_count": 19,
   "id": "1b4235b4",
   "metadata": {},
   "outputs": [
    {
     "name": "stdout",
     "output_type": "stream",
     "text": [
      "시작 위치를 반환 : 10\n",
      "끝 위치를 반환 : 17\n",
      "시작,끝을 튜플로 반환 : (10, 17)\n",
      "매치된 문자열을 반환 : example\n"
     ]
    }
   ],
   "source": [
    "txt = '제 이메일 주소는 example@email.com 이고, 친구의 이메일 주소는 friend@email.com 입니다.'\n",
    "pat = r'[A-Za-z]+'\n",
    "\n",
    "regex = re.search(pat, txt)\n",
    "print(\"시작 위치를 반환 :\", regex.start())\n",
    "print(\"끝 위치를 반환 :\", regex.end())\n",
    "print(\"시작,끝을 튜플로 반환 :\", regex.span())\n",
    "print(\"매치된 문자열을 반환 :\", regex.group())"
   ]
  },
  {
   "cell_type": "markdown",
   "id": "2a426c09",
   "metadata": {},
   "source": [
    "### 그루핑"
   ]
  },
  {
   "cell_type": "code",
   "execution_count": 20,
   "id": "de370343",
   "metadata": {},
   "outputs": [
    {
     "name": "stdout",
     "output_type": "stream",
     "text": [
      "<class 're.Match'>\n",
      "<re.Match object; span=(0, 9), match='ABCABCABC'>\n"
     ]
    }
   ],
   "source": [
    "# ( ) : 하위 표현식 사용하여 그룹 만들기\n",
    "txt = 'ABCABCABC OK?'\n",
    "pat = r'(ABC)+'\n",
    "\n",
    "regex = re.search(pat, txt)\n",
    "print(type(regex))\n",
    "print(regex)"
   ]
  },
  {
   "cell_type": "code",
   "execution_count": 21,
   "id": "9c2c3440",
   "metadata": {},
   "outputs": [
    {
     "name": "stdout",
     "output_type": "stream",
     "text": [
      "<class 're.Match'>\n",
      "<re.Match object; span=(0, 18), match='park 010-1234-1234'>\n",
      "전체 반환 : park 010-1234-1234\n",
      "1번째 그룹 반환 : park\n",
      "2번째 그룹 반환 : 010-1234-1234\n"
     ]
    }
   ],
   "source": [
    "# 매치된 문자열 중 특정 부분의 문자열만 뽑아내기\n",
    "txt = 'park 010-1234-1234'\n",
    "pat = r'(\\w+)\\s+(\\d+-\\d+-\\d+)'\n",
    "\n",
    "regex = re.search(pat, txt)\n",
    "print(type(regex))\n",
    "print(regex)\n",
    "print('전체 반환 :', regex.group(0))\n",
    "print('1번째 그룹 반환 :', regex.group(1))\n",
    "print('2번째 그룹 반환 :', regex.group(2))"
   ]
  },
  {
   "cell_type": "markdown",
   "id": "c0f51c21",
   "metadata": {},
   "source": [
    "### 역참조 활용하기"
   ]
  },
  {
   "cell_type": "code",
   "execution_count": 22,
   "id": "8745c5ad",
   "metadata": {},
   "outputs": [
    {
     "name": "stdout",
     "output_type": "stream",
     "text": [
      "<class 're.Match'>\n",
      "<re.Match object; span=(9, 16), match='the the'>\n"
     ]
    }
   ],
   "source": [
    "# 그루핑한 문자열 재참조하기\n",
    "txt = 'Paris in the the spring'\n",
    "pat = r'(\\b\\w+)\\s+\\1'\n",
    "\n",
    "regex = re.search(pat, txt)\n",
    "print(type(regex))\n",
    "print(regex)"
   ]
  },
  {
   "cell_type": "code",
   "execution_count": 23,
   "id": "e979e3fe",
   "metadata": {},
   "outputs": [
    {
     "name": "stdout",
     "output_type": "stream",
     "text": [
      "<class 'str'>\n",
      "Paris in the spring\n"
     ]
    }
   ],
   "source": [
    "# 그루핑한 문자열 치환하기\n",
    "txt = 'Paris in the the spring'\n",
    "pat = r'(\\b\\w+)\\s+\\1'\n",
    "sub = r'\\1'\n",
    "\n",
    "regex = re.sub(pat, sub, txt)\n",
    "print(type(regex))\n",
    "print(regex)"
   ]
  },
  {
   "cell_type": "code",
   "execution_count": 24,
   "id": "f7be14fb",
   "metadata": {},
   "outputs": [
    {
     "name": "stdout",
     "output_type": "stream",
     "text": [
      "<class 'str'>\n",
      "010-1234-1234 park\n"
     ]
    }
   ],
   "source": [
    "# 그루핑한 문자열 치환하기-2\n",
    "txt = 'park 010-1234-1234'\n",
    "pat = r'(?P<name>\\w+)\\s+(\\d+-\\d+-\\d+)'    # 지정하려는 그룹에 ?P<그룹이름> 추가, 대문자 P임을 유의\n",
    "sub = r'\\2 \\1'\n",
    "\n",
    "regex = re.sub(pat, sub, txt)\n",
    "print(type(regex))\n",
    "print(regex)"
   ]
  },
  {
   "cell_type": "code",
   "execution_count": 25,
   "id": "62c62fc1",
   "metadata": {},
   "outputs": [
    {
     "name": "stdout",
     "output_type": "stream",
     "text": [
      "<class 're.Match'>\n",
      "<re.Match object; span=(0, 18), match='park 010-1234-1234'>\n",
      "name 그룹 반환 : park\n"
     ]
    }
   ],
   "source": [
    "# 그룹 이름 지정하기\n",
    "txt = 'park 010-1234-1234'\n",
    "pat = r'(?P<name>\\w+)\\s+(\\d+-\\d+-\\d+)'    # 지정하려는 그룹에 ?P<그룹이름> 추가, 대문자 P임을 유의\n",
    "\n",
    "regex = re.search(pat, txt)\n",
    "print(type(regex))\n",
    "print(regex)\n",
    "print('name 그룹 반환 :', regex.group('name'))"
   ]
  },
  {
   "cell_type": "code",
   "execution_count": 26,
   "id": "10965b9c",
   "metadata": {},
   "outputs": [
    {
     "name": "stdout",
     "output_type": "stream",
     "text": [
      "<class 're.Match'>\n",
      "<re.Match object; span=(9, 16), match='the the'>\n"
     ]
    }
   ],
   "source": [
    "# 그룹 이름 지정 후 재참조하기\n",
    "txt = 'Paris in the the spring'\n",
    "pat = r'(?P<word>\\b\\w+)\\s+(?P=word)'    # 재참조할 때는 (?P=그룹이름) 사용\n",
    "\n",
    "regex = re.search(pat, txt)\n",
    "print(type(regex))\n",
    "print(regex)"
   ]
  },
  {
   "cell_type": "markdown",
   "id": "a2910b71",
   "metadata": {},
   "source": [
    "### 전후방 탐색 : ( ) 안의 문자열이 소비되지 않음(반환하지 않음)"
   ]
  },
  {
   "cell_type": "markdown",
   "id": "45ecb73f",
   "metadata": {},
   "source": [
    "|    | 구분            | 연산자   | 설명                                                           |\n",
    "|---:|:----------------|:---------|:---------------------------------------------------------------|\n",
    "|  0 | 긍정형 전방탐색 | (?=)     | ( ) 안의 패턴과 매치하는 문자열을 찾은 뒤 소비하지 않고,       |\n",
    "|    |                 |          | 앞쪽과 매치하는 문자열만 반환                                  |\n",
    "|  1 | 긍정형 후방탐색 | (?<=)    | ( ) 안의 패턴과 매치하는 문자열을 찾은 뒤 소비하지 않고,       |\n",
    "|    |                 |          | 뒤쪽과 매치하는 문자열만 반환                                  |\n",
    "|  2 | 부정형 전방탐색 | (?!)     | ( ) 안의 패턴과 매치하지 않는 문자열을 찾은 뒤 소비하지 않고,  |\n",
    "|    |                 |          | 앞쪽과 매치하는 문자열만 반환                                  |\n",
    "|  3 | 부정형 후방탐색 | (<!)     | ( ) 안의 패턴과 매치하지 않는 문자열을 찾은 뒤 소비하지 않고,  |\n",
    "|    |                 |          | 뒤쪽과 매치하는 문자열만 반환                                  |"
   ]
  },
  {
   "cell_type": "code",
   "execution_count": 27,
   "id": "7aa5c019",
   "metadata": {},
   "outputs": [
    {
     "name": "stdout",
     "output_type": "stream",
     "text": [
      "<class 're.Match'>\n",
      "<re.Match object; span=(0, 4), match='http'>\n"
     ]
    }
   ],
   "source": [
    "# 긍정형 전방탐색 : ( ) 안의 패턴과 매치하는 문자열을 찾고, 그 앞쪽과 매치하는 문자열만 반환\n",
    "txt = 'http://google.com'\n",
    "pat = r'[A-Za-z]+(?=://)'\n",
    "\n",
    "regex = re.search(pat, txt)\n",
    "print(type(regex))\n",
    "print(regex)"
   ]
  },
  {
   "cell_type": "code",
   "execution_count": 28,
   "id": "b44e9d53",
   "metadata": {},
   "outputs": [
    {
     "name": "stdout",
     "output_type": "stream",
     "text": [
      "<class 're.Match'>\n",
      "<re.Match object; span=(7, 13), match='google'>\n"
     ]
    }
   ],
   "source": [
    "# 긍정형 후방탐색 : ( ) 안의 패턴과 매치하는 문자열을 찾고, 그 뒤쪽과 매치하는 문자열만 반환\n",
    "txt = 'http://google.com'\n",
    "pat = r'(?<=://)[A-Za-z]+'\n",
    "\n",
    "regex = re.search(pat, txt)\n",
    "print(type(regex))\n",
    "print(regex)"
   ]
  },
  {
   "cell_type": "code",
   "execution_count": 29,
   "id": "6f79e216",
   "metadata": {},
   "outputs": [
    {
     "name": "stdout",
     "output_type": "stream",
     "text": [
      "<class 'list'>\n",
      "<re.Match object; span=(1, 8), match='foo.bar'>\n",
      "<re.Match object; span=(22, 33), match='sendmail.cf'>\n"
     ]
    }
   ],
   "source": [
    "# 부정형 전방탐색 : ( ) 안의 패턴과 매치하지 않는 문자열을 찾고, 그 앞쪽과 매치하는 문자열만 반환\n",
    "txt = '''\n",
    "foo.bar\n",
    "autoexec.bat\n",
    "sendmail.cf\n",
    "'''\n",
    "pat = r'.*[.](?!bat).*'    # 확장자가 bat인 파일 제외시\n",
    "\n",
    "regex = list(re.finditer(pat, txt))\n",
    "print(type(regex))\n",
    "for reg in regex:\n",
    "    print(reg)"
   ]
  },
  {
   "cell_type": "markdown",
   "id": "8062d359",
   "metadata": {},
   "source": [
    "### 탐욕적 수량자, 게으른 수량자\n",
    "* greedy(\\*, \\+, {n,}) : 가능한 한 가장 큰 덩어리를 찾으려고 함\n",
    "* lazy(\\*\\?, \\+\\?, {n,}\\?) : 가능한 최소로 찾으려고 함"
   ]
  },
  {
   "cell_type": "code",
   "execution_count": 30,
   "id": "bdce1d8d",
   "metadata": {},
   "outputs": [
    {
     "name": "stdout",
     "output_type": "stream",
     "text": [
      "<class 're.Match'>\n",
      "<re.Match object; span=(0, 32), match='<html><head><title>Title</Title>'>\n"
     ]
    }
   ],
   "source": [
    "# greedy 수량자 : 가능한 한 가장 큰 덩어리를 찾으려고 함\n",
    "txt = '<html><head><title>Title</Title>'\n",
    "pat = r'<.*>'\n",
    "\n",
    "regex = re.search(pat, txt)\n",
    "print(type(regex))\n",
    "print(regex)"
   ]
  },
  {
   "cell_type": "code",
   "execution_count": 31,
   "id": "9e2d0e62",
   "metadata": {},
   "outputs": [
    {
     "name": "stdout",
     "output_type": "stream",
     "text": [
      "<class 're.Match'>\n",
      "<re.Match object; span=(0, 6), match='<html>'>\n"
     ]
    }
   ],
   "source": [
    "# lazy 수량자 : 가능한 한 가장 작은 덩어리를 찾으려고 함, 탐욕적 수량자 다음에 ?만 붙이면 됨\n",
    "txt = '<html><head><title>Title</Title>'\n",
    "pat = r'<.*?>'\n",
    "\n",
    "regex = re.search(pat, txt)\n",
    "print(type(regex))\n",
    "print(regex)"
   ]
  },
  {
   "cell_type": "code",
   "execution_count": null,
   "id": "8f2324ce",
   "metadata": {},
   "outputs": [],
   "source": []
  }
 ],
 "metadata": {
  "kernelspec": {
   "display_name": "Python 3 (ipykernel)",
   "language": "python",
   "name": "python3"
  },
  "language_info": {
   "codemirror_mode": {
    "name": "ipython",
    "version": 3
   },
   "file_extension": ".py",
   "mimetype": "text/x-python",
   "name": "python",
   "nbconvert_exporter": "python",
   "pygments_lexer": "ipython3",
   "version": "3.9.10"
  }
 },
 "nbformat": 4,
 "nbformat_minor": 5
}
