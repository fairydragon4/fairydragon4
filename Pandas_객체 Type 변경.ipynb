{
 "cells": [
  {
   "cell_type": "code",
   "execution_count": 1,
   "id": "e51c577e",
   "metadata": {},
   "outputs": [],
   "source": [
    "from ini import *"
   ]
  },
  {
   "cell_type": "code",
   "execution_count": 81,
   "id": "6d688979",
   "metadata": {},
   "outputs": [
    {
     "data": {
      "text/plain": [
       "dict"
      ]
     },
     "execution_count": 81,
     "metadata": {},
     "output_type": "execute_result"
    },
    {
     "data": {
      "text/plain": [
       "{'Name': {0: 'Teddy', 1: 'John', 2: 'Chris'},\n",
       " 'Korean': {0: 90, 1: 80, 2: 50},\n",
       " 'Math': {0: 80, 1: 100, 2: 70}}"
      ]
     },
     "execution_count": 81,
     "metadata": {},
     "output_type": "execute_result"
    }
   ],
   "source": [
    "# 샘플 Dictionary 생성 (컬럼 단위로 추가)\n",
    "dict1 = {}\n",
    "\n",
    "dict1['Name'] = {0:'Teddy', 1:'John', 2:'Chris'}\n",
    "dict1['Korean'] = {0:90, 1:80, 2:50}\n",
    "dict1['Math'] = {0:80, 1:100, 2:70}\n",
    "\n",
    "type(dict1)\n",
    "dict1\n",
    "## 인덱스가 있어야 DataFrame으로 변환 가능"
   ]
  },
  {
   "cell_type": "code",
   "execution_count": 82,
   "id": "86a81c7c",
   "metadata": {},
   "outputs": [
    {
     "data": {
      "text/plain": [
       "dict"
      ]
     },
     "execution_count": 82,
     "metadata": {},
     "output_type": "execute_result"
    },
    {
     "data": {
      "text/plain": [
       "{'Name': {'Choi', 'Hong', 'Kim'}, 'Korean': {50, 60, 75}, 'Math': {70, 85, 95}}"
      ]
     },
     "execution_count": 82,
     "metadata": {},
     "output_type": "execute_result"
    }
   ],
   "source": [
    "# 샘플 Dictionary 생성 (한번에 추가)\n",
    "dict2 = {'Name': {'Choi', 'Hong', 'Kim'},\n",
    "          'Korean': {60, 50, 75},\n",
    "          'Math': {70, 85, 95}}\n",
    "\n",
    "type(dict2)\n",
    "dict2"
   ]
  },
  {
   "cell_type": "code",
   "execution_count": 83,
   "id": "de864566",
   "metadata": {},
   "outputs": [
    {
     "data": {
      "text/plain": [
       "pandas.core.frame.DataFrame"
      ]
     },
     "execution_count": 83,
     "metadata": {},
     "output_type": "execute_result"
    },
    {
     "data": {
      "text/html": [
       "<div>\n",
       "<style scoped>\n",
       "    .dataframe tbody tr th:only-of-type {\n",
       "        vertical-align: middle;\n",
       "    }\n",
       "\n",
       "    .dataframe tbody tr th {\n",
       "        vertical-align: top;\n",
       "    }\n",
       "\n",
       "    .dataframe thead th {\n",
       "        text-align: right;\n",
       "    }\n",
       "</style>\n",
       "<table border=\"1\" class=\"dataframe\">\n",
       "  <thead>\n",
       "    <tr style=\"text-align: right;\">\n",
       "      <th></th>\n",
       "      <th>Name</th>\n",
       "      <th>Korean</th>\n",
       "      <th>Math</th>\n",
       "    </tr>\n",
       "  </thead>\n",
       "  <tbody>\n",
       "    <tr>\n",
       "      <th>0</th>\n",
       "      <td>Teddy</td>\n",
       "      <td>90</td>\n",
       "      <td>80</td>\n",
       "    </tr>\n",
       "    <tr>\n",
       "      <th>1</th>\n",
       "      <td>John</td>\n",
       "      <td>80</td>\n",
       "      <td>100</td>\n",
       "    </tr>\n",
       "    <tr>\n",
       "      <th>2</th>\n",
       "      <td>Chris</td>\n",
       "      <td>50</td>\n",
       "      <td>70</td>\n",
       "    </tr>\n",
       "  </tbody>\n",
       "</table>\n",
       "</div>"
      ],
      "text/plain": [
       "    Name  Korean  Math\n",
       "0  Teddy      90    80\n",
       "1   John      80   100\n",
       "2  Chris      50    70"
      ]
     },
     "execution_count": 83,
     "metadata": {},
     "output_type": "execute_result"
    }
   ],
   "source": [
    "# Dictionary → DataFrame 변환\n",
    "df1 = pd.DataFrame(dict1)\n",
    "type(df1)\n",
    "df1"
   ]
  },
  {
   "cell_type": "code",
   "execution_count": 80,
   "id": "17666e8c",
   "metadata": {},
   "outputs": [
    {
     "data": {
      "text/plain": [
       "dict"
      ]
     },
     "execution_count": 80,
     "metadata": {},
     "output_type": "execute_result"
    },
    {
     "name": "stdout",
     "output_type": "stream",
     "text": [
      "{'Name': {0: 'Teddy', 1: 'John', 2: 'Chris'}, 'Korean': {0: 90, 1: 80, 2: 50}, 'Math': {0: 80, 1: 100, 2: 70}}\n"
     ]
    }
   ],
   "source": [
    "# DataFrame → Dictionary 변환\n",
    "dict3 = df1.to_dict()\n",
    "type(dict3)\n",
    "print(dict3)"
   ]
  },
  {
   "cell_type": "code",
   "execution_count": 79,
   "id": "bc45d1df",
   "metadata": {},
   "outputs": [
    {
     "data": {
      "text/plain": [
       "pandas.core.series.Series"
      ]
     },
     "execution_count": 79,
     "metadata": {},
     "output_type": "execute_result"
    },
    {
     "data": {
      "text/plain": [
       "0    Teddy\n",
       "1     John\n",
       "2    Chris\n",
       "Name: Name, dtype: object"
      ]
     },
     "execution_count": 79,
     "metadata": {},
     "output_type": "execute_result"
    }
   ],
   "source": [
    "# 열이 하나인 경우 자동으로 DataFrame → Series\n",
    "sr1 = df1['Name']\n",
    "type(sr1)\n",
    "sr1"
   ]
  },
  {
   "cell_type": "code",
   "execution_count": 78,
   "id": "51292662",
   "metadata": {},
   "outputs": [
    {
     "data": {
      "text/plain": [
       "list"
      ]
     },
     "execution_count": 78,
     "metadata": {},
     "output_type": "execute_result"
    },
    {
     "data": {
      "text/plain": [
       "['Teddy', 'John', 'Chris']"
      ]
     },
     "execution_count": 78,
     "metadata": {},
     "output_type": "execute_result"
    }
   ],
   "source": [
    "# Series → List 변환\n",
    "ls1 = sr1.to_list()\n",
    "type(ls1)\n",
    "ls1"
   ]
  },
  {
   "cell_type": "code",
   "execution_count": 85,
   "id": "83cff8b5",
   "metadata": {},
   "outputs": [
    {
     "data": {
      "text/plain": [
       "dict"
      ]
     },
     "execution_count": 85,
     "metadata": {},
     "output_type": "execute_result"
    },
    {
     "data": {
      "text/plain": [
       "{0: 'Teddy', 1: 'John', 2: 'Chris'}"
      ]
     },
     "execution_count": 85,
     "metadata": {},
     "output_type": "execute_result"
    }
   ],
   "source": [
    "# Series → Dictionary 변환\n",
    "dict4 = sr1.to_dict()\n",
    "type(dict4)\n",
    "dict4"
   ]
  },
  {
   "cell_type": "code",
   "execution_count": 90,
   "id": "c8e34787",
   "metadata": {},
   "outputs": [
    {
     "data": {
      "text/plain": [
       "list"
      ]
     },
     "execution_count": 90,
     "metadata": {},
     "output_type": "execute_result"
    },
    {
     "data": {
      "text/plain": [
       "['Teddy', 'John', 'Chris']"
      ]
     },
     "execution_count": 90,
     "metadata": {},
     "output_type": "execute_result"
    }
   ],
   "source": [
    "# List → Series 변환\n",
    "ls2 = list(dict4.values())\n",
    "type(ls2)\n",
    "ls2"
   ]
  },
  {
   "cell_type": "code",
   "execution_count": null,
   "id": "6e6360da",
   "metadata": {},
   "outputs": [],
   "source": []
  }
 ],
 "metadata": {
  "kernelspec": {
   "display_name": "Python 3 (ipykernel)",
   "language": "python",
   "name": "python3"
  },
  "language_info": {
   "codemirror_mode": {
    "name": "ipython",
    "version": 3
   },
   "file_extension": ".py",
   "mimetype": "text/x-python",
   "name": "python",
   "nbconvert_exporter": "python",
   "pygments_lexer": "ipython3",
   "version": "3.9.10"
  }
 },
 "nbformat": 4,
 "nbformat_minor": 5
}
