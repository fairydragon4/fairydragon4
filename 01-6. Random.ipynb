{
 "cells": [
  {
   "cell_type": "code",
   "execution_count": 1,
   "metadata": {},
   "outputs": [],
   "source": [
    "import numpy as np\n",
    "import random"
   ]
  },
  {
   "cell_type": "code",
   "execution_count": 2,
   "metadata": {},
   "outputs": [
    {
     "data": {
      "text/plain": [
       "0.7301196767334166"
      ]
     },
     "execution_count": 2,
     "metadata": {},
     "output_type": "execute_result"
    }
   ],
   "source": [
    "# random() : 0과 1 사이의 무작위 실수를 반환\n",
    "random.random()"
   ]
  },
  {
   "cell_type": "code",
   "execution_count": 3,
   "metadata": {},
   "outputs": [
    {
     "data": {
      "text/plain": [
       "[0.7338066402088247,\n",
       " 0.4182614684163264,\n",
       " 0.5897765226071403,\n",
       " 0.346288439238583,\n",
       " 0.6142432943985213]"
      ]
     },
     "execution_count": 3,
     "metadata": {},
     "output_type": "execute_result"
    }
   ],
   "source": [
    "# 숫자 여러개 뽑아서 리스트로 만들때는 list comprehension 활용\n",
    "[random.random() for i in range(5)]"
   ]
  },
  {
   "cell_type": "code",
   "execution_count": 4,
   "metadata": {},
   "outputs": [
    {
     "data": {
      "text/plain": [
       "13.352341768523036"
      ]
     },
     "execution_count": 4,
     "metadata": {},
     "output_type": "execute_result"
    }
   ],
   "source": [
    "# uniform(a, b) : a~b 사이의 무작위 실수를 반환\n",
    "random.uniform(10, 20)"
   ]
  },
  {
   "cell_type": "code",
   "execution_count": 5,
   "metadata": {},
   "outputs": [
    {
     "data": {
      "text/plain": [
       "20"
      ]
     },
     "execution_count": 5,
     "metadata": {},
     "output_type": "execute_result"
    }
   ],
   "source": [
    "# randint(a, b) : a, b 사이의 무작위 정수를 반환\n",
    "random.randint(10, 20)"
   ]
  },
  {
   "cell_type": "code",
   "execution_count": 6,
   "metadata": {},
   "outputs": [
    {
     "data": {
      "text/plain": [
       "12"
      ]
     },
     "execution_count": 6,
     "metadata": {},
     "output_type": "execute_result"
    }
   ],
   "source": [
    "# randrange(b) : 0, b 사이 무작위 정수를 반환, b는 포함하지 않음\n",
    "# randrange(a, b) : a, b 사이 무작위 정수를 반환, b는 포함하지 않음\n",
    "random.randrange(10, 20)"
   ]
  },
  {
   "cell_type": "code",
   "execution_count": 7,
   "metadata": {},
   "outputs": [
    {
     "data": {
      "text/plain": [
       "3"
      ]
     },
     "execution_count": 7,
     "metadata": {},
     "output_type": "execute_result"
    }
   ],
   "source": [
    "# randrange(a, b, step) : a, b 사이 step 만큼 건너뛴 값 중 무작위 정수를 반환, b는 포함하지 않음\n",
    "random.randrange(1, 9, 2)  # 1, 3, 5, 7 중 임의로 반환"
   ]
  },
  {
   "cell_type": "code",
   "execution_count": 8,
   "metadata": {},
   "outputs": [
    {
     "data": {
      "text/plain": [
       "'n'"
      ]
     },
     "execution_count": 8,
     "metadata": {},
     "output_type": "execute_result"
    }
   ],
   "source": [
    "# choice(seq) : 시퀀스(문자열, 튜플, range, list) 내 무작위 원소를 뽑음\n",
    "random.choice('RandomTest')"
   ]
  },
  {
   "cell_type": "code",
   "execution_count": 9,
   "metadata": {},
   "outputs": [
    {
     "data": {
      "text/plain": [
       "['n', 'T', 'd']"
      ]
     },
     "execution_count": 9,
     "metadata": {},
     "output_type": "execute_result"
    }
   ],
   "source": [
    "# random.sample(seq or set, N) : 시퀀스 내 무작위 원소 N개를 unique하게 뽑아 리스트로 반환\n",
    "random.sample('RandomTest', 3)"
   ]
  },
  {
   "cell_type": "code",
   "execution_count": 10,
   "metadata": {},
   "outputs": [
    {
     "data": {
      "text/plain": [
       "[5, 1, 4, 9, 0, 3, 7, 8, 6, 2]"
      ]
     },
     "execution_count": 10,
     "metadata": {},
     "output_type": "execute_result"
    }
   ],
   "source": [
    "# random.shuffle(seq) : 데이터 순서를 무작위로 변경, 리스트만 가능, 값을 반환하지 않음\n",
    "a = [*range(10)]\n",
    "random.shuffle(a)\n",
    "a"
   ]
  },
  {
   "cell_type": "code",
   "execution_count": 11,
   "metadata": {},
   "outputs": [
    {
     "name": "stdout",
     "output_type": "stream",
     "text": [
      "[3, 0, 8, 0, 2]\n",
      "[3, 0, 8, 0, 2, 3, 0, 0, 10, 2]\n"
     ]
    }
   ],
   "source": [
    "# seed() : 샘플링 결과가 실행할 때마다 고정된 값을 얻음\n",
    "random.seed(15)\n",
    "print([random.randint(0,10) for i in range(5)])\n",
    "\n",
    "random.seed(15)\n",
    "print([random.randint(0,10) for i in range(10)])"
   ]
  },
  {
   "cell_type": "markdown",
   "metadata": {},
   "source": [
    "### numpy 난수 생성\n",
    "값 여러개를 원하는 dimension으로 추출하며, 정규분포 추출이 가능하고, 추출값 연산시 array 연산과 연계 가능"
   ]
  },
  {
   "cell_type": "code",
   "execution_count": 12,
   "metadata": {},
   "outputs": [
    {
     "data": {
      "text/plain": [
       "0.37974704313844976"
      ]
     },
     "execution_count": 12,
     "metadata": {},
     "output_type": "execute_result"
    }
   ],
   "source": [
    "# rand() : 0과 1 사이의 무작위 실수를 반환\n",
    "np.random.rand()"
   ]
  },
  {
   "cell_type": "code",
   "execution_count": 13,
   "metadata": {},
   "outputs": [
    {
     "data": {
      "text/plain": [
       "array([0.09359651, 0.96314056, 0.4546596 , 0.30530269, 0.8880205 ])"
      ]
     },
     "execution_count": 13,
     "metadata": {},
     "output_type": "execute_result"
    }
   ],
   "source": [
    "# rand(n) : 0과 1사이의 무작위 실수를 n개 가지는 넘파이 array 반환\n",
    "np.random.rand(5)"
   ]
  },
  {
   "cell_type": "code",
   "execution_count": 14,
   "metadata": {},
   "outputs": [
    {
     "data": {
      "text/plain": [
       "array([[0.34695056, 0.49124855, 0.12738533, 0.85338854],\n",
       "       [0.60535142, 0.7577996 , 0.86115227, 0.99073927],\n",
       "       [0.19497918, 0.28885825, 0.22525296, 0.9035021 ]])"
      ]
     },
     "execution_count": 14,
     "metadata": {},
     "output_type": "execute_result"
    }
   ],
   "source": [
    "# rand(m, n) : 해당 dimension을 가진 넘파이 array 반환\n",
    "np.random.rand(3,4)"
   ]
  },
  {
   "cell_type": "code",
   "execution_count": 15,
   "metadata": {},
   "outputs": [
    {
     "data": {
      "text/plain": [
       "array([[0.32679584, 0.78504753, 0.85376875, 0.81135979],\n",
       "       [0.86150529, 0.59898627, 0.71908199, 0.82892056],\n",
       "       [0.29559605, 0.62378318, 0.13029767, 0.00455786]])"
      ]
     },
     "execution_count": 15,
     "metadata": {},
     "output_type": "execute_result"
    }
   ],
   "source": [
    "# random((m, n)) : 튜플 형태로 입력, 결과는 위와 동일\n",
    "np.random.random((3,4))"
   ]
  },
  {
   "cell_type": "code",
   "execution_count": 16,
   "metadata": {},
   "outputs": [
    {
     "data": {
      "text/plain": [
       "-0.3332444192802298"
      ]
     },
     "execution_count": 16,
     "metadata": {},
     "output_type": "execute_result"
    }
   ],
   "source": [
    "# randn() : 표준정규분포를 따르는 무작위 실수를 반환\n",
    "np.random.randn()"
   ]
  },
  {
   "cell_type": "code",
   "execution_count": 17,
   "metadata": {},
   "outputs": [
    {
     "data": {
      "text/plain": [
       "array([10,  2,  3,  9,  4,  9,  9,  7,  5,  8])"
      ]
     },
     "execution_count": 17,
     "metadata": {},
     "output_type": "execute_result"
    }
   ],
   "source": [
    "# randint(a, b, size) : a, b 사이의 무작위 정수를 size개 가지는 넘파이 array 반환, b는 포함하지 않음\n",
    "np.random.randint(1, 11, size=10)"
   ]
  },
  {
   "cell_type": "code",
   "execution_count": 18,
   "metadata": {},
   "outputs": [
    {
     "data": {
      "text/plain": [
       "array([[4, 4, 1, 4],\n",
       "       [2, 1, 3, 4],\n",
       "       [2, 4, 3, 1]])"
      ]
     },
     "execution_count": 18,
     "metadata": {},
     "output_type": "execute_result"
    }
   ],
   "source": [
    "# size에 dimension 입력 가능\n",
    "np.random.randint(1, 5, (3,4))"
   ]
  },
  {
   "cell_type": "code",
   "execution_count": 19,
   "metadata": {},
   "outputs": [
    {
     "data": {
      "text/plain": [
       "array([9, 2, 6, 8, 2])"
      ]
     },
     "execution_count": 19,
     "metadata": {},
     "output_type": "execute_result"
    }
   ],
   "source": [
    "# choice() : 원하는 조건 하에서 샘플링하기\n",
    "np.random.choice(\n",
    "    10,  # 0~해당 숫자-1 범위에서 정수 sampling\n",
    "    5,   # 추출 개수, 생략시 1\n",
    "    replace = True  # 복원 추출 여부, *True | False\n",
    ")"
   ]
  },
  {
   "cell_type": "code",
   "execution_count": 20,
   "metadata": {},
   "outputs": [
    {
     "data": {
      "text/plain": [
       "array(['good', 'good', 'good', 'good', 'good'], dtype='<U9')"
      ]
     },
     "execution_count": 20,
     "metadata": {},
     "output_type": "execute_result"
    }
   ],
   "source": [
    "np.random.choice(\n",
    "    ['good', 'excellent', 'bad', 'poor'],  # 리스트 내 원소 sampling\n",
    "    5,   \n",
    "    replace = True,\n",
    "    p = [0.6, 0.2, 0.15, 0.05]  # 각 항목별 추출 확률, 모든 확률의 합은 1이 되어야 함, 생략시 모든 원소 추출 확률 균등\n",
    ")"
   ]
  },
  {
   "cell_type": "code",
   "execution_count": 21,
   "metadata": {},
   "outputs": [
    {
     "name": "stdout",
     "output_type": "stream",
     "text": [
      "[0.77132064 0.02075195 0.63364823 0.74880388 0.49850701]\n",
      "[0.77132064 0.02075195 0.63364823 0.74880388 0.49850701 0.22479665\n",
      " 0.19806286]\n"
     ]
    }
   ],
   "source": [
    "# seed() : 샘플링 결과가 실행할 때마다 고정된 값을 얻음\n",
    "# np.random 추출 결과 고정시 np.random.seed(n) 사용해야 함. ramdom.seed(n)은 적용되지 않음\n",
    "np.random.seed(10)\n",
    "print(np.random.rand(5))\n",
    "np.random.seed(10)\n",
    "print(np.random.rand(7))"
   ]
  },
  {
   "cell_type": "code",
   "execution_count": null,
   "metadata": {},
   "outputs": [],
   "source": []
  }
 ],
 "metadata": {
  "kernelspec": {
   "display_name": "Python 3 (ipykernel)",
   "language": "python",
   "name": "python3"
  },
  "language_info": {
   "codemirror_mode": {
    "name": "ipython",
    "version": 3
   },
   "file_extension": ".py",
   "mimetype": "text/x-python",
   "name": "python",
   "nbconvert_exporter": "python",
   "pygments_lexer": "ipython3",
   "version": "3.9.10"
  }
 },
 "nbformat": 4,
 "nbformat_minor": 4
}
