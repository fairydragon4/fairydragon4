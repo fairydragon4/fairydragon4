{
 "cells": [
  {
   "cell_type": "markdown",
   "id": "c2ba8ebd",
   "metadata": {},
   "source": [
    "- list : ordered, index, mutable\n",
    "- tuple : ordered, index, immutable\n",
    "- dictionary : inordered, index, mutable\n",
    "- Set : Mutable data structures like lists or dictionaries cna't be added to a set"
   ]
  },
  {
   "cell_type": "code",
   "execution_count": null,
   "id": "9eb22397",
   "metadata": {},
   "outputs": [],
   "source": [
    "import pandas as pd\n",
    "import numpy as np"
   ]
  },
  {
   "cell_type": "code",
   "execution_count": null,
   "id": "51e0694b",
   "metadata": {},
   "outputs": [],
   "source": [
    "# 샘플 list\n",
    "list1 = ['apple', 'banana', 'orange']"
   ]
  },
  {
   "cell_type": "code",
   "execution_count": null,
   "id": "345c00ba",
   "metadata": {},
   "outputs": [],
   "source": []
  },
  {
   "cell_type": "code",
   "execution_count": null,
   "id": "586cd7f8",
   "metadata": {},
   "outputs": [],
   "source": [
    "# 샘플 tuple\n"
   ]
  },
  {
   "cell_type": "code",
   "execution_count": null,
   "id": "1ecaa9a3",
   "metadata": {},
   "outputs": [],
   "source": []
  },
  {
   "cell_type": "code",
   "execution_count": null,
   "id": "7ea64993",
   "metadata": {},
   "outputs": [],
   "source": [
    "딕셔너리 샘플 다시 만들것, 다중으로 만들 이유 없으니 간단하게..."
   ]
  },
  {
   "cell_type": "code",
   "execution_count": 4,
   "id": "89f6d9f5",
   "metadata": {},
   "outputs": [
    {
     "data": {
      "text/plain": [
       "{'Name': ['Choi', 'Hong', 'Kim'], 'Korean': [60, 50, 75], 'Math': [70, 85, 95]}"
      ]
     },
     "execution_count": 4,
     "metadata": {},
     "output_type": "execute_result"
    }
   ],
   "source": [
    "# 샘플 Dictionary\n",
    "dict1 = {'Name': ['Choi', 'Hong', 'Kim'],\n",
    "          'Korean': [60, 50, 75],\n",
    "          'Math': [70, 85, 95]}\n",
    "dict1"
   ]
  },
  {
   "cell_type": "code",
   "execution_count": 3,
   "id": "c8255c0f",
   "metadata": {},
   "outputs": [
    {
     "data": {
      "text/plain": [
       "{'Name': ['Choi', 'Hong', 'Kim'], 'Korean': [60, 50, 75], 'Math': [70, 85, 95]}"
      ]
     },
     "execution_count": 3,
     "metadata": {},
     "output_type": "execute_result"
    }
   ],
   "source": [
    "# copy() : return a copy of the dictionary\n",
    "dict2 = dict1.copy()\n",
    "dict2"
   ]
  },
  {
   "cell_type": "code",
   "execution_count": 7,
   "id": "5a982711",
   "metadata": {},
   "outputs": [
    {
     "name": "stdout",
     "output_type": "stream",
     "text": [
      "<class 'dict'>\n"
     ]
    },
    {
     "data": {
      "text/plain": [
       "{}"
      ]
     },
     "execution_count": 7,
     "metadata": {},
     "output_type": "execute_result"
    }
   ],
   "source": [
    "# clear() : removes all the elements from the dictionary\n",
    "dict2.clear()\n",
    "print(type(dict2))\n",
    "dict2"
   ]
  },
  {
   "cell_type": "code",
   "execution_count": 9,
   "id": "5d11361e",
   "metadata": {},
   "outputs": [
    {
     "data": {
      "text/plain": [
       "{'name': None, 'age': None, ' phonenumber': None}"
      ]
     },
     "execution_count": 9,
     "metadata": {},
     "output_type": "execute_result"
    }
   ],
   "source": [
    "# dict.fromkeys(seq, value) : returns a dictionary with the specified, keys and value\n",
    "seq = ('name', 'age',' phonenumber')\n",
    "dict3 = dict.fromkeys(seq)\n",
    "dict3"
   ]
  },
  {
   "cell_type": "code",
   "execution_count": 21,
   "id": "bc646b68",
   "metadata": {},
   "outputs": [
    {
     "data": {
      "text/plain": [
       "['Choi', 'Hong', 'Kim']"
      ]
     },
     "execution_count": 21,
     "metadata": {},
     "output_type": "execute_result"
    }
   ],
   "source": [
    "# get() : returns the value fo the specified key\n",
    "dict1.get('Name')"
   ]
  },
  {
   "cell_type": "code",
   "execution_count": 24,
   "id": "b0429605",
   "metadata": {},
   "outputs": [
    {
     "data": {
      "text/plain": [
       "dict_items([('Name', ['Choi', 'Hong', 'Kim']), ('Korean', [60, 50, 75]), ('Math', [70, 85, 95])])"
      ]
     },
     "execution_count": 24,
     "metadata": {},
     "output_type": "execute_result"
    }
   ],
   "source": [
    "dict1.items()"
   ]
  },
  {
   "cell_type": "code",
   "execution_count": null,
   "id": "465efb29",
   "metadata": {},
   "outputs": [],
   "source": [
    "https://blog.naver.com/dico1967/222712584324"
   ]
  }
 ],
 "metadata": {
  "kernelspec": {
   "display_name": "Python 3 (ipykernel)",
   "language": "python",
   "name": "python3"
  },
  "language_info": {
   "codemirror_mode": {
    "name": "ipython",
    "version": 3
   },
   "file_extension": ".py",
   "mimetype": "text/x-python",
   "name": "python",
   "nbconvert_exporter": "python",
   "pygments_lexer": "ipython3",
   "version": "3.9.10"
  }
 },
 "nbformat": 4,
 "nbformat_minor": 5
}
